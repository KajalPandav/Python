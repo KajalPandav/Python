{
 "cells": [
  {
   "cell_type": "code",
   "execution_count": 1,
   "metadata": {},
   "outputs": [
    {
     "name": "stdout",
     "output_type": "stream",
     "text": [
      "20\n"
     ]
    }
   ],
   "source": [
    "class add():\n",
    "    x=20\n",
    "    \n",
    "obj=add()\n",
    "print(obj.x)\n",
    "    "
   ]
  },
  {
   "cell_type": "code",
   "execution_count": 3,
   "metadata": {},
   "outputs": [
    {
     "name": "stdout",
     "output_type": "stream",
     "text": [
      "value of A..... 34\n",
      "value of B..... 67\n",
      "Substraction is..... -33\n"
     ]
    }
   ],
   "source": [
    "class sub():\n",
    "    a=34\n",
    "    b=67\n",
    "    c=a-b\n",
    "    \n",
    "obj=sub()\n",
    "print(\"value of A.....\",obj.a)\n",
    "print(\"value of B.....\",obj.b)\n",
    "print(\"Substraction is.....\",obj.c)"
   ]
  },
  {
   "cell_type": "code",
   "execution_count": 4,
   "metadata": {},
   "outputs": [
    {
     "name": "stdout",
     "output_type": "stream",
     "text": [
      "Ankita\n",
      "90\n"
     ]
    }
   ],
   "source": [
    "class home():\n",
    "    def __init__(self,a,b):\n",
    "        self.a=a\n",
    "        self.b=b\n",
    "\n",
    "m1=home(\"Ankita\",90)\n",
    "print(m1.a)\n",
    "print(m1.b)"
   ]
  },
  {
   "cell_type": "code",
   "execution_count": 5,
   "metadata": {},
   "outputs": [
    {
     "name": "stdout",
     "output_type": "stream",
     "text": [
      "Ankita 90\n"
     ]
    }
   ],
   "source": [
    "class home():\n",
    "    def __init__(self,a,b):\n",
    "        self.a=a\n",
    "        self.b=b\n",
    "        \n",
    "m1=home(\"Ankita\",90)\n",
    "print(m1.a,m1.b)"
   ]
  },
  {
   "cell_type": "code",
   "execution_count": 11,
   "metadata": {},
   "outputs": [
    {
     "name": "stdout",
     "output_type": "stream",
     "text": [
      "Enter the Name:om\n",
      "Enter the marks:78\n",
      "Name..... om\n",
      "Marks..... 78\n",
      "Name... om Marks.... 78\n"
     ]
    }
   ],
   "source": [
    "class home():\n",
    "    def __init__(self,a,b):\n",
    "        self.a=a\n",
    "        self.b=b\n",
    "        \n",
    "Name=input(\"Enter the Name:\")\n",
    "Marks=int(input(\"Enter the marks:\"))\n",
    "m1=home(Name,Marks)\n",
    "print(\"Name.....\",m1.a)\n",
    "print(\"Marks.....\",m1.b)\n",
    "print(\"Name...\",m1.a,\"Marks....\",m1.b)\n",
    "        "
   ]
  },
  {
   "cell_type": "code",
   "execution_count": 14,
   "metadata": {},
   "outputs": [
    {
     "name": "stdout",
     "output_type": "stream",
     "text": [
      "Enter the Name..:Aniket\n",
      "Enter the marks..:89\n",
      "Enter the Name1..:Akshay\n",
      "Enter the marks1..:78\n",
      "Name..: Aniket\n",
      "Marks..: 89\n",
      "Name1..: Akshay\n",
      "Marks..: 78\n",
      "Name: Aniket Marks: 89 Name1: Akshay Marks1: 78\n"
     ]
    }
   ],
   "source": [
    "class home():\n",
    "    def __init__(self,x,y):\n",
    "        self.x=x\n",
    "        self.y=y\n",
    "        \n",
    "Name=input(\"Enter the Name..:\")\n",
    "Marks=int(input(\"Enter the marks..:\"))\n",
    "Name1=input(\"Enter the Name1..:\")\n",
    "Marks1=int(input(\"Enter the marks1..:\"))\n",
    "m1=home(Name,Marks)\n",
    "m2=home(Name1,Marks1)\n",
    "print(\"Name..:\",m1.x)\n",
    "print(\"Marks..:\",m1.y)\n",
    "\n",
    "print(\"Name1..:\",m2.x)\n",
    "print(\"Marks..:\",m2.y)\n",
    "\n",
    "print(\"Name:\",m1.x, \"Marks:\",m1.y,  \"Name1:\",m2.x, \"Marks1:\",m2.y)\n",
    "\n"
   ]
  },
  {
   "cell_type": "code",
   "execution_count": 17,
   "metadata": {},
   "outputs": [
    {
     "name": "stdout",
     "output_type": "stream",
     "text": [
      "Enter the Name:Sonali\n",
      "Enter the Marks:56\n",
      "Enter the Name_1:Shweta\n",
      "Enter the Marks_1:67\n",
      "Total Marks is....: Sonali 56\n",
      "Total Marks is....: Shweta 67\n",
      "Enter the Name:kajal\n",
      "Enter the Marks:89\n",
      "Enter the Name_1:ankita\n",
      "Enter the Marks_1:67\n",
      "Total Marks is....: kajal 89\n",
      "Total Marks is....: ankita 67\n"
     ]
    }
   ],
   "source": [
    "class home():\n",
    "    def __init__(self,a,b):\n",
    "        self.a=a\n",
    "        self.b=b\n",
    "        \n",
    "for x in range(2):\n",
    "    Name=input(\"Enter the Name:\")\n",
    "    Marks=int(input(\"Enter the Marks:\"))\n",
    "    Name_1=input(\"Enter the Name_1:\")\n",
    "    Marks_1=int(input(\"Enter the Marks_1:\"))\n",
    "    m1=home(Name,Marks)\n",
    "    m2=home(Name_1,Marks_1)\n",
    "    print(\"Total Marks is....:\",m1.a,m1.b)\n",
    "    print(\"Total Marks is....:\",m2.a,m2.b)\n",
    "    "
   ]
  },
  {
   "cell_type": "code",
   "execution_count": 18,
   "metadata": {},
   "outputs": [
    {
     "name": "stdout",
     "output_type": "stream",
     "text": [
      "Enter the Name: Sanket\n",
      "Enter the Name: 90\n",
      "My Total Value is : Sanket 90\n",
      "My Total Details:  Sanket 90\n"
     ]
    }
   ],
   "source": [
    "class home:\n",
    "    def __init__(self,a,b):\n",
    "        self.a=a\n",
    "        self.b=b\n",
    "    def mymarks(self):\n",
    "        print(\"My Total Details: \",self.a,self.b)\n",
    "\n",
    "name=input(\"Enter the Name: \")\n",
    "Marks=input(\"Enter the Name: \")\n",
    "m1=home(name,Marks)\n",
    "print(\"My Total Value is :\",m1.a,m1.b)\n",
    "m1.mymarks()"
   ]
  },
  {
   "cell_type": "code",
   "execution_count": null,
   "metadata": {},
   "outputs": [
    {
     "name": "stdout",
     "output_type": "stream",
     "text": [
      "Enter the product_1 name:..sugar\n",
      "Enter the product_2 name:..salt\n",
      "My total products is: sugar salt\n",
      "My products:... sugar salt\n",
      "[<__main__.Dmart object at 0x000001BAB1EE8DC8>, <__main__.Dmart object at 0x000001BAB1EFF748>, <__main__.Dmart object at 0x000001BAB1F296C8>, <__main__.Dmart object at 0x000001BAB1647A08>]\n"
     ]
    }
   ],
   "source": [
    "class Dmart:\n",
    "    Dmart_Update=[]\n",
    "    def __init__(self,a,b):\n",
    "        self.a=a\n",
    "        self.b=b\n",
    "    def all(self):\n",
    "        print(\"My products:...\",self.a,self.b)\n",
    "for x in range(3):\n",
    "    product_1=input(\"Enter the product_1 name:..\")\n",
    "    product_2=input(\"Enter the product_2 name:..\")\n",
    "    m1=Dmart(product_1,product_2)\n",
    "    print(\"My total products is:\",m1.a,m1.b)\n",
    "    m1.all()\n",
    "    Dmart_Update.append(m1)\n",
    "    print(Dmart_Update)\n"
   ]
  },
  {
   "cell_type": "code",
   "execution_count": null,
   "metadata": {},
   "outputs": [],
   "source": []
  }
 ],
 "metadata": {
  "kernelspec": {
   "display_name": "Python 3",
   "language": "python",
   "name": "python3"
  },
  "language_info": {
   "codemirror_mode": {
    "name": "ipython",
    "version": 3
   },
   "file_extension": ".py",
   "mimetype": "text/x-python",
   "name": "python",
   "nbconvert_exporter": "python",
   "pygments_lexer": "ipython3",
   "version": "3.7.6"
  }
 },
 "nbformat": 4,
 "nbformat_minor": 4
}
