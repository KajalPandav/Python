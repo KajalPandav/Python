{
 "cells": [
  {
   "cell_type": "code",
   "execution_count": null,
   "metadata": {},
   "outputs": [],
   "source": [
    "#if else condition\n",
    "a=int(input(\"Enter the 1st value:\"))\n",
    "b=int(input(\"Enter the 2nd value:\"))\n",
    "if a==b:\n",
    "    print(\"values are Equal\")\n",
    "else:\n",
    "    print(\"Values are not Equal\")"
   ]
  },
  {
   "cell_type": "code",
   "execution_count": null,
   "metadata": {},
   "outputs": [],
   "source": [
    "a=10\n",
    "b=15\n",
    "if a!=b:\n",
    "    print(\"correct\")\n",
    "else:\n",
    "    print(\"Not correct\")"
   ]
  },
  {
   "cell_type": "code",
   "execution_count": null,
   "metadata": {},
   "outputs": [],
   "source": [
    "n=6\n",
    "a=input(\"Enter the first value:\")\n",
    "b=input(\"Enter the second value:\")\n",
    "for x in range(n):\n",
    "    if a==b:\n",
    "        print(\"values are Equal\")\n",
    "    else:\n",
    "        print(\"values are not Equal\")"
   ]
  },
  {
   "cell_type": "code",
   "execution_count": null,
   "metadata": {},
   "outputs": [],
   "source": [
    "n=5\n",
    "x=30\n",
    "y=20\n",
    "for a in range (n):\n",
    "    if x!=y:\n",
    "        print(\"correct\")\n",
    "    else:\n",
    "        print(\"Not correct\")"
   ]
  },
  {
   "cell_type": "code",
   "execution_count": null,
   "metadata": {},
   "outputs": [],
   "source": [
    "a=input(\"Enter first value:\")\n",
    "b=input(\"Enter second value:\")\n",
    "if a==b:\n",
    "    print(\"correct\")\n",
    "else:\n",
    "    print(\"Not equal\")"
   ]
  },
  {
   "cell_type": "code",
   "execution_count": null,
   "metadata": {},
   "outputs": [],
   "source": [
    "n=5\n",
    "for x in range(n):\n",
    "    a=int(input(\"Enter the value:\"))\n",
    "    if a>25 or a<10:\n",
    "        print(\"correct\")\n",
    "    else:\n",
    "        print(\"Not correct\")"
   ]
  },
  {
   "cell_type": "code",
   "execution_count": null,
   "metadata": {},
   "outputs": [],
   "source": [
    "a=int(input(\"Enter first number:\"))\n",
    "b=int(input(\"Enter second number:\"))\n",
    "for x in range(4):\n",
    "    if a%b==0:\n",
    "        print(\"divisible\")\n",
    "    else:\n",
    "        print(\"not divisible\")"
   ]
  },
  {
   "cell_type": "code",
   "execution_count": null,
   "metadata": {},
   "outputs": [],
   "source": [
    "city=[\"Kolhapur\",\"Satara\",\"ichalkaranji\"]\n",
    "for i in range(2):\n",
    "    a=input(\"Enter the city name:\")\n",
    "    for x in city:\n",
    "        if a==x:\n",
    "            print(\"welcome to\",a)\n",
    "else:\n",
    "    print(\"Invalid city name\")"
   ]
  },
  {
   "cell_type": "code",
   "execution_count": null,
   "metadata": {},
   "outputs": [],
   "source": [
    "g_data=[\"Pooja\",\"Nalini\",\"Kajal\",\"Renu\"]\n",
    "mg_data=[]\n",
    "b_data=[\"Aniket\",\"Akshay\",\"Rahul\",\"Virat\"]\n",
    "mb_data=[]\n",
    "\n",
    "g_city=[\"Pune\"]\n",
    "b_city=[\"Mumbai\"]\n",
    "for x in range(3):\n",
    "    c=input(\"Enter the city name:  \")\n",
    "    for x1 in g_city:\n",
    "        if c==x1:\n",
    "            g=input(\"Enter the girls name:  \")\n",
    "            for gm in g_data:\n",
    "                if g==gm:\n",
    "                    mg_data.append(g)\n",
    "                    print(\"Updated data..\",mg_data)\n",
    "                    break\n",
    "                else:\n",
    "                    print(\"Your input is wrong..\")"
   ]
  },
  {
   "cell_type": "code",
   "execution_count": null,
   "metadata": {},
   "outputs": [],
   "source": [
    "g_data=[\"Pooja\",\"Nalini\",\"Shweta\",\"Sonali\"]\n",
    "mg_data=[]\n",
    "b_data=[\"Pratik\",\"Harsh\",\"Santosh\",\"Aniket\"]\n",
    "mb_data=[]\n",
    "\n",
    "g_city=[\"Pune\"]\n",
    "b_city=[\"Mumbai\"]\n",
    "for y in range(3):\n",
    "    a=input(\"Enter the city name:  \")\n",
    "    for y1 in b_city:\n",
    "        if a==y1:\n",
    "            b=input(\"Enter the boys name:  \")\n",
    "            for bm in b_data:\n",
    "                if b==bm:\n",
    "                    mb_data.append(b)\n",
    "                    print(\"Updated data....\",mb_data)\n",
    "                    break\n",
    "                else:\n",
    "                    print(\"Your input is wrong..\")\n",
    "    "
   ]
  },
  {
   "cell_type": "code",
   "execution_count": null,
   "metadata": {},
   "outputs": [],
   "source": [
    "                 \n",
    "g_data=[\"Pooja\",\"Nalini\",\"Kajal\",\"Renu\"]\n",
    "mg_data=[]\n",
    "b_data=[\"Aniket\",\"Akshay\",\"Rahul\",\"Virat\"]\n",
    "mb_data=[]\n",
    "\n",
    "g_city=[\"Pune\"]\n",
    "b_city=[\"Mumbai\"]\n",
    "for x in range(3):\n",
    "    c=input(\"Enter the city name:  \")\n",
    "    for x1 in g_city:\n",
    "        if c==x1:\n",
    "            g=input(\"Enter the girls name:  \")\n",
    "            for gm in g_data:\n",
    "                if g==gm:\n",
    "                    mg_data.append(g)\n",
    "                    print(\"Updated data..\",mg_data)\n",
    "                    break\n",
    "                else:\n",
    "                    print(\"Your input is wrong..\")\n",
    "                    \n",
    "for y1 in b_city:\n",
    "    if c==y1:\n",
    "        b=input(\"Enter the boys name:   \")\n",
    "        for bm in b_data:\n",
    "            if b==bm:\n",
    "                mb_data.append(b)\n",
    "                print(\"Updated data...\",mb_data)\n",
    "                break\n",
    "            else:\n",
    "                print(\"your input is wrong..\")\n",
    "                        \n",
    "                    \n",
    "   "
   ]
  },
  {
   "cell_type": "code",
   "execution_count": null,
   "metadata": {},
   "outputs": [],
   "source": [
    "n=4\n",
    "a=int(input(\"Enter first number:\")) \n",
    "b=int(input(\"Enter second number:\"))\n",
    "for x in range(n): \n",
    "    if a%b==0: \n",
    "        print(\"divisible\")\n",
    "    else: print(\"not divisible\")\n",
    "\n"
   ]
  },
  {
   "cell_type": "code",
   "execution_count": null,
   "metadata": {},
   "outputs": [],
   "source": [
    "#Given an integer, , perform the following conditional actions:\n",
    "\n",
    "#If n is odd, print Weird\n",
    "#If n is even and in the inclusive range of 2 to 5, print Not Weird\n",
    "#If n is even and in the inclusive range of 6 to 20 , print Weird\n",
    "#If n is even and greater than 20 ,print Not Weird\n",
    "\n",
    "n=int(input(\"Enter value:\"))\n",
    "\n",
    "for x in range(2,5):\n",
    "    for y in range(6,20):\n",
    "        if n%2!=0:\n",
    "            print(\"weird\")\n",
    "            break\n",
    "        elif n%2==0 and x:\n",
    "            print(\"Not weird\")\n",
    "            break\n",
    "        elif n%2==0 and y:\n",
    "            print(\"weird\")\n",
    "            break\n",
    "        elif n%2==0 and n>20:\n",
    "            print(\"Not weird\")\n",
    "            break\n",
    "        else:\n",
    "            print(\"Enter correct number..\")\n",
    "            break\n",
    "    break      \n",
    "            "
   ]
  },
  {
   "cell_type": "code",
   "execution_count": null,
   "metadata": {},
   "outputs": [],
   "source": [
    "# if else for loop practice\n",
    "# city separation\n",
    "\n",
    "Maharashtra=[\"Kolhapur\",\"Pune\",\"Mumbai\",\"Satara\",\"Karad\"]\n",
    "Karnataka=[\"Belgaon\",\"Benglore\",\"Manglore\",\"Mysore\",\"Uti\"]\n",
    "Maha_data=[]\n",
    "karn_data=[]\n",
    "\n",
    "n=int(input(\"Enter count:\"))\n",
    "for x in range(n):\n",
    "    c=input(\"Enter city name:\")\n",
    "    for m in Maharashtra:\n",
    "        if m==c:\n",
    "            print(\"your entered city belongs to maharashtra...\")\n",
    "            Maha_data.append(c)\n",
    "            print(\"your updated data\",Maha_data)\n",
    "   \n",
    "        \n",
    "    for k in Karnataka:\n",
    "        if k==c:\n",
    "            print(\"your entered city belongs to karanataka...\")\n",
    "            karn_data.append(c)\n",
    "            print(\"your updated data\",karn_data)\n",
    "        break\n",
    "else:\n",
    "    print(\"your entered city is wrong....\")\n",
    "            \n",
    "            \n",
    "            "
   ]
  },
  {
   "cell_type": "code",
   "execution_count": null,
   "metadata": {},
   "outputs": [],
   "source": [
    "a_city=[\"kolhapur,sangali,karad,satara\"]\n",
    "b_city=[\"belgoan,benglore,uti,mysore\"]\n",
    "a_update=[]\n",
    "b_update=[]\n",
    "\n",
    "n=int(input(\"Enter count:..\"))\n",
    "for x in range(n):\n",
    "    c=input(\"Enter city name:...\")\n",
    "    for a in a_city:\n",
    "        if a==c:\n",
    "            print(\"Your entered city is belongs to maharashtra state....\")\n",
    "            a_update.append(c)\n",
    "            print(\"Your updated data is\",a_update)\n",
    "            \n",
    "    for b in b_city:\n",
    "        if b==c:\n",
    "            print(\"Your entered city is belongs to karnataka state....\")\n",
    "            b_update.append(c)\n",
    "            print(\"Your updated data is\",b_update)\n",
    "            \n",
    "else:\n",
    "    print(\"Your entered city is wrong...\")\n"
   ]
  },
  {
   "cell_type": "code",
   "execution_count": null,
   "metadata": {},
   "outputs": [],
   "source": [
    "a_city=[\"kolhapur,sangali,karad,satara\"]\n",
    "b_city=[\"belgoan,benglore,Uti,mysore\"]\n",
    "a_update=[]\n",
    "b_update=[]\n",
    "\n",
    "n=int(input(\"Enter count:..\"))\n",
    "for x in range(n):\n",
    "    c=input(\"Enter city name:...\")\n",
    "    for a in a_city:\n",
    "        if a==c:\n",
    "            print(\"Your entered city is belongs to maharashtra state....\")\n",
    "            a_update.append(c)\n",
    "            print(\"Your updated data is\",a_update)\n",
    "            \n",
    "    for b in b_city:\n",
    "        if b==c:\n",
    "            print(\"Your entered city is belongs to karnataka state....\")\n",
    "            b_update.append(c)\n",
    "            print(\"Your updated data is\",b_update)\n",
    "            \n",
    "else:\n",
    "    print(\"Your entered city is wrong...\")\n"
   ]
  },
  {
   "cell_type": "code",
   "execution_count": 1,
   "metadata": {},
   "outputs": [
    {
     "name": "stdout",
     "output_type": "stream",
     "text": [
      "loop times=2\n",
      "Enter city name:belgoan\n",
      "Enter city name:karad\n"
     ]
    }
   ],
   "source": [
    "Maharashtra=[\"kolhapur,sangali,karad,satara\"]\n",
    "Karnataka=[\"belgoan,benglore,Uti,mysore\"]\n",
    "\n",
    "M_data=[]\n",
    "K_data=[]\n",
    "\n",
    "n=int(input(\"loop times=\"))\n",
    "for x in range(n):\n",
    "    city=input(\"Enter city name:\")\n",
    "    for mc in Maharashtra:\n",
    "        if city==mc:\n",
    "            print(\"Maharashtra City...\")\n",
    "            M_data.append(city)\n",
    "            print(M_data)\n",
    "\n",
    "\n",
    "    for kc in Karnataka:\n",
    "        if city==kc:\n",
    "            print(\"Karnataka City...\")\n",
    "            K_data.append(city)\n",
    "\n",
    "#         print(\"...Lists Updated...\")            \n",
    "#         choice=input(\"Enter choice:\")\n",
    "#         if choice==\"M\":\n",
    "#             print(M_data)\n",
    "#         elif choice==\"K\":\n",
    "#             print(K_data)\n",
    "#         else:\n",
    "#             print(\"ENTER CORRECT DATA !!\")\n"
   ]
  },
  {
   "cell_type": "code",
   "execution_count": null,
   "metadata": {},
   "outputs": [],
   "source": []
  }
 ],
 "metadata": {
  "kernelspec": {
   "display_name": "Python 3",
   "language": "python",
   "name": "python3"
  },
  "language_info": {
   "codemirror_mode": {
    "name": "ipython",
    "version": 3
   },
   "file_extension": ".py",
   "mimetype": "text/x-python",
   "name": "python",
   "nbconvert_exporter": "python",
   "pygments_lexer": "ipython3",
   "version": "3.7.6"
  }
 },
 "nbformat": 4,
 "nbformat_minor": 4
}
