{
 "cells": [
  {
   "cell_type": "code",
   "execution_count": 5,
   "metadata": {},
   "outputs": [
    {
     "data": {
      "text/plain": [
       "array([7, 8, 3, 4, 5, 5, 4, 5, 6, 8, 6, 7])"
      ]
     },
     "execution_count": 5,
     "metadata": {},
     "output_type": "execute_result"
    }
   ],
   "source": [
    "## Concatenate ##\n",
    "\n",
    "import numpy as np\n",
    "ar1=np.array([7,8,3,4,5,5])\n",
    "ar2=np.array([4,5,6,8,6,7])\n",
    "\n",
    "at=np.concatenate((ar1,ar2))\n",
    "at"
   ]
  },
  {
   "cell_type": "code",
   "execution_count": 2,
   "metadata": {},
   "outputs": [
    {
     "name": "stdout",
     "output_type": "stream",
     "text": [
      "97\n"
     ]
    }
   ],
   "source": [
    "import numpy as np\n",
    "ar=np.array([34,12,34,54,12,43])\n",
    "print(ar[3]+ar[5])"
   ]
  },
  {
   "cell_type": "code",
   "execution_count": 8,
   "metadata": {},
   "outputs": [
    {
     "name": "stdout",
     "output_type": "stream",
     "text": [
      "1\n",
      "1\n"
     ]
    },
    {
     "data": {
      "text/plain": [
       "array([ 2,  4,  5,  6,  6,  7,  8,  9,  9,  8,  7,  6, 10, 11, 12, 13])"
      ]
     },
     "execution_count": 8,
     "metadata": {},
     "output_type": "execute_result"
    }
   ],
   "source": [
    "import numpy as np\n",
    "ar1=np.array([2,4,5,6,6,7,8,9])\n",
    "ar2=np.array([9,8,7,6,10,11,12,13])\n",
    "print(ar1.ndim)\n",
    "print(ar2.ndim)\n",
    "\n",
    "atp=np.concatenate((ar1,ar2))\n",
    "atp"
   ]
  },
  {
   "cell_type": "code",
   "execution_count": 9,
   "metadata": {},
   "outputs": [
    {
     "data": {
      "text/plain": [
       "array([[ 22,  23,  24],\n",
       "       [ 25,  62,  72],\n",
       "       [222, 223, 242],\n",
       "       [225, 622, 722]])"
      ]
     },
     "execution_count": 9,
     "metadata": {},
     "output_type": "execute_result"
    }
   ],
   "source": [
    "import numpy as np\n",
    "ar2=np.array([[22,23,24],[25,62,72]])\n",
    "ar3=np.array([[222,223,242],[225,622,722]])\n",
    "at=np.concatenate((ar2,ar3))\n",
    "at"
   ]
  },
  {
   "cell_type": "code",
   "execution_count": 10,
   "metadata": {},
   "outputs": [
    {
     "name": "stdout",
     "output_type": "stream",
     "text": [
      "[[ 22  23  24 222 223 242  32  22  24]\n",
      " [ 25  62  72 225 622 722   2  62  72]]\n"
     ]
    }
   ],
   "source": [
    "import numpy as np\n",
    "ar2=np.array([[22,23,24],[25,62,72]])\n",
    "ar3=np.array([[222,223,242],[225,622,722]])\n",
    "ar4=np.array([[32,22,24],[2,62,72]])\n",
    "\n",
    "at1=np.concatenate((ar2,ar3,ar4),axis=1)   ## (Axis 1=Converts rows into column) ##\n",
    "print(at1)"
   ]
  },
  {
   "cell_type": "code",
   "execution_count": 11,
   "metadata": {},
   "outputs": [
    {
     "name": "stdout",
     "output_type": "stream",
     "text": [
      "[array([3, 4, 5]), array([6, 7, 8]), array([9, 4])]\n"
     ]
    }
   ],
   "source": [
    "## Split Function ##\n",
    "\n",
    "import numpy as np\n",
    "ar1=np.array([3,4,5,6,7,8,9,4])\n",
    "ap=np.array_split(ar1,3)\n",
    "print(ap)"
   ]
  },
  {
   "cell_type": "code",
   "execution_count": 12,
   "metadata": {},
   "outputs": [
    {
     "name": "stdout",
     "output_type": "stream",
     "text": [
      "[array([3, 4]), array([5, 6]), array([7]), array([8]), array([9]), array([4])]\n"
     ]
    }
   ],
   "source": [
    "import numpy as np\n",
    "ar1=np.array([3,4,5,6,7,8,9,4])\n",
    "ap=np.array_split(ar1,6)\n",
    "print(ap)"
   ]
  },
  {
   "cell_type": "code",
   "execution_count": 13,
   "metadata": {},
   "outputs": [
    {
     "name": "stdout",
     "output_type": "stream",
     "text": [
      "[array([3]), array([4]), array([5]), array([6]), array([7]), array([8]), array([9]), array([4])]\n"
     ]
    }
   ],
   "source": [
    "import numpy as np\n",
    "ar1=np.array([3,4,5,6,7,8,9,4])\n",
    "ap=np.array_split(ar1,8)\n",
    "print(ap)"
   ]
  },
  {
   "cell_type": "code",
   "execution_count": 14,
   "metadata": {},
   "outputs": [
    {
     "name": "stdout",
     "output_type": "stream",
     "text": [
      "[array([3]), array([4]), array([5]), array([6]), array([7]), array([8]), array([9]), array([4]), array([], dtype=int32), array([], dtype=int32)]\n"
     ]
    }
   ],
   "source": [
    "import numpy as np\n",
    "ar1=np.array([3,4,5,6,7,8,9,4])\n",
    "ap=np.array_split(ar1,10)\n",
    "print(ap)"
   ]
  },
  {
   "cell_type": "code",
   "execution_count": 17,
   "metadata": {},
   "outputs": [
    {
     "name": "stdout",
     "output_type": "stream",
     "text": [
      "(array([3, 6], dtype=int64),)\n"
     ]
    }
   ],
   "source": [
    "## Where ##(Where function used to indicate array position)\n",
    "\n",
    "import numpy as np\n",
    "ar1=np.array([23,34,45,32,44,12,32,55,67])\n",
    "ap=np.where(ar1==32)\n",
    "print(ap)"
   ]
  },
  {
   "cell_type": "code",
   "execution_count": 19,
   "metadata": {},
   "outputs": [
    {
     "name": "stdout",
     "output_type": "stream",
     "text": [
      "(array([0, 2, 4, 5], dtype=int64),)\n"
     ]
    }
   ],
   "source": [
    "import numpy as np\n",
    "ar2=np.array([22,23,24,25,62,72])\n",
    "ap=np.where(ar2%2==0)       ## Check even numbers array position ##\n",
    "print(ap)"
   ]
  },
  {
   "cell_type": "code",
   "execution_count": 20,
   "metadata": {},
   "outputs": [
    {
     "name": "stdout",
     "output_type": "stream",
     "text": [
      "(array([1, 3], dtype=int64),)\n"
     ]
    }
   ],
   "source": [
    "import numpy as np\n",
    "ar2=np.array([22,23,24,25,62,72])\n",
    "ap=np.where(ar2%2==1)    ## Check odd numbers array position ##\n",
    "print(ap)"
   ]
  },
  {
   "cell_type": "code",
   "execution_count": null,
   "metadata": {},
   "outputs": [],
   "source": []
  }
 ],
 "metadata": {
  "kernelspec": {
   "display_name": "Python 3",
   "language": "python",
   "name": "python3"
  },
  "language_info": {
   "codemirror_mode": {
    "name": "ipython",
    "version": 3
   },
   "file_extension": ".py",
   "mimetype": "text/x-python",
   "name": "python",
   "nbconvert_exporter": "python",
   "pygments_lexer": "ipython3",
   "version": "3.7.6"
  }
 },
 "nbformat": 4,
 "nbformat_minor": 4
}
