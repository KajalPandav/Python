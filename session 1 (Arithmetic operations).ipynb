{
 "cells": [
  {
   "cell_type": "code",
   "execution_count": 1,
   "metadata": {},
   "outputs": [
    {
     "name": "stdout",
     "output_type": "stream",
     "text": [
      "20\n"
     ]
    }
   ],
   "source": [
    "a=10\n",
    "b=10\n",
    "print(a+b)"
   ]
  },
  {
   "cell_type": "code",
   "execution_count": 1,
   "metadata": {},
   "outputs": [
    {
     "name": "stdout",
     "output_type": "stream",
     "text": [
      "40\n"
     ]
    }
   ],
   "source": [
    "a=20\n",
    "b=20\n",
    "c=a+b\n",
    "print(c)"
   ]
  },
  {
   "cell_type": "code",
   "execution_count": 2,
   "metadata": {},
   "outputs": [
    {
     "name": "stdout",
     "output_type": "stream",
     "text": [
      "total 65\n"
     ]
    }
   ],
   "source": [
    "a=30\n",
    "b=35\n",
    "c=a+b\n",
    "print(\"total\",c)"
   ]
  },
  {
   "cell_type": "code",
   "execution_count": 3,
   "metadata": {},
   "outputs": [
    {
     "name": "stdout",
     "output_type": "stream",
     "text": [
      "total 21\n"
     ]
    }
   ],
   "source": [
    "a=43\n",
    "b=22\n",
    "c=a-b\n",
    "print(\"total\",a-b)"
   ]
  },
  {
   "cell_type": "code",
   "execution_count": 4,
   "metadata": {},
   "outputs": [
    {
     "name": "stdout",
     "output_type": "stream",
     "text": [
      "67 Addition of two numbers\n"
     ]
    }
   ],
   "source": [
    "a=33\n",
    "b=34\n",
    "print(a+b,\"Addition of two numbers\")"
   ]
  },
  {
   "cell_type": "code",
   "execution_count": 5,
   "metadata": {},
   "outputs": [
    {
     "name": "stdout",
     "output_type": "stream",
     "text": [
      "165 addition of two numbers -9 substraction of two numbers\n"
     ]
    }
   ],
   "source": [
    "a=78\n",
    "b=87\n",
    "print(a+b,\"addition of two numbers\",a-b,\"substraction of two numbers\")"
   ]
  },
  {
   "cell_type": "code",
   "execution_count": 1,
   "metadata": {},
   "outputs": [
    {
     "name": "stdout",
     "output_type": "stream",
     "text": [
      "Enter the value of radius:45\n",
      "6358.500000000001\n",
      "6358.500000000001\n",
      "toral radius is 6358.500000000001\n",
      "total radius 6358.500000000001\n",
      "6358.500000000001 6358.500000000001\n"
     ]
    }
   ],
   "source": [
    "## Area of circle ##\n",
    "\n",
    "pi=3.14\n",
    "r=int(input(\"Enter the value of radius:\"))\n",
    "Area=pi*r*r\n",
    "print(Area)\n",
    "print(pi*r*r)\n",
    "print(\"toral radius is\",Area)\n",
    "print(\"total radius\",pi*r*r)\n",
    "print(pi*r*r,Area)"
   ]
  },
  {
   "cell_type": "code",
   "execution_count": 12,
   "metadata": {},
   "outputs": [
    {
     "name": "stdout",
     "output_type": "stream",
     "text": [
      "108\n"
     ]
    }
   ],
   "source": [
    "## Parameter of rectangle ##\n",
    "\n",
    "l=20\n",
    "w=34\n",
    "parameter=2*l+2*w\n",
    "print(parameter)\n"
   ]
  },
  {
   "cell_type": "code",
   "execution_count": 1,
   "metadata": {},
   "outputs": [
    {
     "name": "stdout",
     "output_type": "stream",
     "text": [
      "Enter value of length:67\n",
      "Enter value of width:45\n"
     ]
    }
   ],
   "source": [
    "l=int(input(\"Enter value of length:\"))\n",
    "w=input(\"Enter value of width:\")"
   ]
  },
  {
   "cell_type": "code",
   "execution_count": 2,
   "metadata": {},
   "outputs": [
    {
     "name": "stdout",
     "output_type": "stream",
     "text": [
      "Enter value of length:78\n",
      "Enter value of width:45\n",
      "246\n",
      "3510\n",
      "92 total value of parameter:....... 3510 total value of area\n"
     ]
    }
   ],
   "source": [
    "#rectangle\n",
    "l=int(input(\"Enter value of length:\"))\n",
    "w=int(input(\"Enter value of width:\"))\n",
    "parameter=2*l+2*w\n",
    "area=l*w\n",
    "print(parameter)\n",
    "print(area)\n",
    "print(2*1+2*w,\"total value of parameter:.......\",l*w,\"total value of area\")"
   ]
  },
  {
   "cell_type": "code",
   "execution_count": 20,
   "metadata": {},
   "outputs": [
    {
     "name": "stdout",
     "output_type": "stream",
     "text": [
      "Enter number's\n"
     ]
    }
   ],
   "source": [
    "print(\"Enter number's\")"
   ]
  },
  {
   "cell_type": "code",
   "execution_count": 27,
   "metadata": {},
   "outputs": [
    {
     "name": "stdout",
     "output_type": "stream",
     "text": [
      "Enter value79\n",
      "316\n"
     ]
    }
   ],
   "source": [
    "#square\n",
    "s=int(input(\"Enter value\"))\n",
    "p=4*s\n",
    "print(p)"
   ]
  },
  {
   "cell_type": "code",
   "execution_count": 29,
   "metadata": {},
   "outputs": [
    {
     "name": "stdout",
     "output_type": "stream",
     "text": [
      "Enter value of base23\n",
      "Enter value of height21\n",
      "241.5\n"
     ]
    }
   ],
   "source": [
    "#triangle\n",
    "b=float(input(\"Enter value of base\"))\n",
    "h=float(input(\"Enter value of height\"))\n",
    "area=0.5*b*h\n",
    "print(area)"
   ]
  },
  {
   "cell_type": "code",
   "execution_count": 30,
   "metadata": {},
   "outputs": [
    {
     "ename": "SyntaxError",
     "evalue": "invalid syntax (<ipython-input-30-a915b3d0b5cb>, line 1)",
     "output_type": "error",
     "traceback": [
      "\u001b[1;36m  File \u001b[1;32m\"<ipython-input-30-a915b3d0b5cb>\"\u001b[1;36m, line \u001b[1;32m1\u001b[0m\n\u001b[1;33m    print('renu's cafe')\u001b[0m\n\u001b[1;37m                ^\u001b[0m\n\u001b[1;31mSyntaxError\u001b[0m\u001b[1;31m:\u001b[0m invalid syntax\n"
     ]
    }
   ],
   "source": [
    "print('renu's cafe')"
   ]
  },
  {
   "cell_type": "code",
   "execution_count": 31,
   "metadata": {},
   "outputs": [
    {
     "name": "stdout",
     "output_type": "stream",
     "text": [
      "renu's cafe\n"
     ]
    }
   ],
   "source": [
    "print(\"renu's cafe\")"
   ]
  },
  {
   "cell_type": "code",
   "execution_count": null,
   "metadata": {},
   "outputs": [],
   "source": []
  }
 ],
 "metadata": {
  "kernelspec": {
   "display_name": "Python 3",
   "language": "python",
   "name": "python3"
  },
  "language_info": {
   "codemirror_mode": {
    "name": "ipython",
    "version": 3
   },
   "file_extension": ".py",
   "mimetype": "text/x-python",
   "name": "python",
   "nbconvert_exporter": "python",
   "pygments_lexer": "ipython3",
   "version": "3.7.6"
  }
 },
 "nbformat": 4,
 "nbformat_minor": 4
}
