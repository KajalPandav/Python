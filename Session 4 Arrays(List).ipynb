{
 "cells": [
  {
   "cell_type": "code",
   "execution_count": 1,
   "metadata": {},
   "outputs": [
    {
     "name": "stdout",
     "output_type": "stream",
     "text": [
      "racksonsit\n"
     ]
    }
   ],
   "source": [
    "a=\"racksonsit\"\n",
    "print(a)"
   ]
  },
  {
   "cell_type": "code",
   "execution_count": 3,
   "metadata": {},
   "outputs": [
    {
     "name": "stdout",
     "output_type": "stream",
     "text": [
      "k\n"
     ]
    }
   ],
   "source": [
    "a=\"Hatkanangale\"\n",
    "print(a[3])"
   ]
  },
  {
   "cell_type": "code",
   "execution_count": 4,
   "metadata": {},
   "outputs": [
    {
     "name": "stdout",
     "output_type": "stream",
     "text": [
      "Enter city name:kolhapur\n",
      "k\n"
     ]
    }
   ],
   "source": [
    "a=input(\"Enter city name:\")\n",
    "print(a[0])"
   ]
  },
  {
   "cell_type": "code",
   "execution_count": 5,
   "metadata": {},
   "outputs": [
    {
     "name": "stdout",
     "output_type": "stream",
     "text": [
      "Ankita\n"
     ]
    }
   ],
   "source": [
    "a=\"Ankita\"\n",
    "print(a[:])"
   ]
  },
  {
   "cell_type": "code",
   "execution_count": 6,
   "metadata": {},
   "outputs": [
    {
     "name": "stdout",
     "output_type": "stream",
     "text": [
      "nkit\n"
     ]
    }
   ],
   "source": [
    "a=\"Ankita\"\n",
    "print(a[1:5])"
   ]
  },
  {
   "cell_type": "code",
   "execution_count": 8,
   "metadata": {},
   "outputs": [
    {
     "name": "stdout",
     "output_type": "stream",
     "text": [
      "Enter the name:Kolhapur\n",
      "8\n",
      "lhap\n"
     ]
    }
   ],
   "source": [
    "a=input(\"Enter the name:\")\n",
    "print(len(a))\n",
    "print(a[2:6])\n"
   ]
  },
  {
   "cell_type": "code",
   "execution_count": 9,
   "metadata": {},
   "outputs": [
    {
     "name": "stdout",
     "output_type": "stream",
     "text": [
      "Enter the value:Ichalkaranji\n",
      "12\n",
      "Ichalkaranji\n"
     ]
    }
   ],
   "source": [
    "a=input(\"Enter the value:\")\n",
    "print(len(a))\n",
    "print(a[:])"
   ]
  },
  {
   "cell_type": "code",
   "execution_count": 3,
   "metadata": {},
   "outputs": [
    {
     "name": "stdout",
     "output_type": "stream",
     "text": [
      "6\n",
      "Shru\n"
     ]
    }
   ],
   "source": [
    "a=\"Shruti\"\n",
    "print(len(a))\n",
    "print(a[-6:-2])"
   ]
  },
  {
   "cell_type": "code",
   "execution_count": 2,
   "metadata": {},
   "outputs": [
    {
     "name": "stdout",
     "output_type": "stream",
     "text": [
      "\n"
     ]
    }
   ],
   "source": [
    "a=\"Shruti\"\n",
    "print(a[-2:-6])"
   ]
  },
  {
   "cell_type": "code",
   "execution_count": 17,
   "metadata": {},
   "outputs": [
    {
     "name": "stdout",
     "output_type": "stream",
     "text": [
      "<class 'list'>\n"
     ]
    }
   ],
   "source": [
    "a=[\"Kolhapur\",\"Hatkanangale\"]\n",
    "print(type(a))"
   ]
  },
  {
   "cell_type": "code",
   "execution_count": 21,
   "metadata": {},
   "outputs": [
    {
     "name": "stdout",
     "output_type": "stream",
     "text": [
      "<class 'str'>\n",
      "<class 'list'>\n",
      "<class 'str'>\n",
      "<class 'list'>\n",
      "<class 'tuple'>\n"
     ]
    }
   ],
   "source": [
    "a=\"Kolhapur\"\n",
    "print(type(a))\n",
    "\n",
    "a=[\"Kolhapur\"]\n",
    "print(type(a))\n",
    "\n",
    "c=(\"Sangali\")\n",
    "print(type(c))\n",
    "\n",
    "b=[\"Kolhapur\",\"Sangali\"]\n",
    "print(type(b))\n",
    "\n",
    "c=(\"Satara\",\"Hatkanangale\")\n",
    "print(type(c))"
   ]
  },
  {
   "cell_type": "code",
   "execution_count": 23,
   "metadata": {},
   "outputs": [
    {
     "name": "stdout",
     "output_type": "stream",
     "text": [
      "['Kolhapur', 'Sangali', 'Ichalkaranji', 'satara', 'pune', 'Mumbai']\n"
     ]
    }
   ],
   "source": [
    "city=[\"Kolhapur\",\"Sangali\",\"Ichalkaranji\",\"satara\",\"pune\"]\n",
    "city.append(\"Mumbai\") \n",
    "print(city)"
   ]
  },
  {
   "cell_type": "code",
   "execution_count": 24,
   "metadata": {},
   "outputs": [
    {
     "name": "stdout",
     "output_type": "stream",
     "text": [
      "Enter city name: karad\n",
      "['Kolhapur', 'Sangali', 'Ichalkaranji', 'satara', 'pune', 'karad']\n"
     ]
    }
   ],
   "source": [
    "city=[\"Kolhapur\",\"Sangali\",\"Ichalkaranji\",\"satara\",\"pune\"]\n",
    "a=input(\"Enter city name: \")\n",
    "city.append(a)\n",
    "print(city)"
   ]
  },
  {
   "cell_type": "code",
   "execution_count": 26,
   "metadata": {},
   "outputs": [
    {
     "name": "stdout",
     "output_type": "stream",
     "text": [
      "Enter city name:karad\n",
      "Enter position:2\n",
      "['Kolhapur', 'Sangali', 'karad', 'Ichalkaranji', 'satara', 'pune']\n"
     ]
    }
   ],
   "source": [
    "city=[\"Kolhapur\",\"Sangali\",\"Ichalkaranji\",\"satara\",\"pune\"]\n",
    "a=input(\"Enter city name:\")\n",
    "n=int(input(\"Enter position:\"))\n",
    "city.insert(n,a)\n",
    "print(city)"
   ]
  },
  {
   "cell_type": "code",
   "execution_count": 28,
   "metadata": {},
   "outputs": [
    {
     "name": "stdout",
     "output_type": "stream",
     "text": [
      "['Kolhapur', 'Sangali', 'Ichalkaranji', 'mumbai', 'satara', 'pune']\n"
     ]
    }
   ],
   "source": [
    "city=[\"Kolhapur\",\"Sangali\",\"Ichalkaranji\",\"satara\",\"pune\"]\n",
    "city.insert(3,\"mumbai\")\n",
    "print(city)"
   ]
  },
  {
   "cell_type": "code",
   "execution_count": 6,
   "metadata": {},
   "outputs": [
    {
     "name": "stdout",
     "output_type": "stream",
     "text": [
      "Enter the name:Sonali\n",
      "Son\n"
     ]
    }
   ],
   "source": [
    "a=input(\"Enter the name:\")\n",
    "print(a[-6:-3])"
   ]
  },
  {
   "cell_type": "code",
   "execution_count": 10,
   "metadata": {},
   "outputs": [
    {
     "name": "stdout",
     "output_type": "stream",
     "text": [
      "Enter the name:ichalkaranji\n",
      "halka\n"
     ]
    }
   ],
   "source": [
    "a=input(\"Enter the name:\")\n",
    "print(a[2:-5])"
   ]
  },
  {
   "cell_type": "code",
   "execution_count": 17,
   "metadata": {},
   "outputs": [
    {
     "name": "stdout",
     "output_type": "stream",
     "text": [
      "ichalk\n"
     ]
    }
   ],
   "source": [
    "a=\"ichalkaranji\"\n",
    "print(a[-12:-6])"
   ]
  },
  {
   "cell_type": "code",
   "execution_count": 14,
   "metadata": {},
   "outputs": [
    {
     "name": "stdout",
     "output_type": "stream",
     "text": [
      "alk\n"
     ]
    }
   ],
   "source": [
    "x=\"ichalkaranji\"\n",
    "print(a[3:-6])"
   ]
  },
  {
   "cell_type": "code",
   "execution_count": null,
   "metadata": {},
   "outputs": [],
   "source": []
  }
 ],
 "metadata": {
  "kernelspec": {
   "display_name": "Python 3",
   "language": "python",
   "name": "python3"
  },
  "language_info": {
   "codemirror_mode": {
    "name": "ipython",
    "version": 3
   },
   "file_extension": ".py",
   "mimetype": "text/x-python",
   "name": "python",
   "nbconvert_exporter": "python",
   "pygments_lexer": "ipython3",
   "version": "3.7.6"
  }
 },
 "nbformat": 4,
 "nbformat_minor": 4
}
