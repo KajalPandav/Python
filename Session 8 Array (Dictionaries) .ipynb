{
 "cells": [
  {
   "cell_type": "code",
   "execution_count": 1,
   "metadata": {},
   "outputs": [
    {
     "name": "stdout",
     "output_type": "stream",
     "text": [
      "{'City name': 'Mumbai', 'Phone no.': 45365469, 'Name': 'Shweta', 'Address': 'Hatkanangale', 'Email ID': 'Shweta123@gmail.com'}\n"
     ]
    }
   ],
   "source": [
    "## DICTIONARIES ##\n",
    "a={\"City name\":\"Mumbai\",\n",
    "   \"Phone no.\": 45365469,\n",
    "   \"Name\":     \"Shweta\",\n",
    "   \"Address\":  \"Hatkanangale\",\n",
    "   \"Email ID\": \"Shweta123@gmail.com\" \n",
    "  }\n",
    "print(a)"
   ]
  },
  {
   "cell_type": "code",
   "execution_count": 2,
   "metadata": {},
   "outputs": [
    {
     "data": {
      "text/plain": [
       "{'City name': 'Mumbai',\n",
       " 'Phone no.': 45365469,\n",
       " 'Name': 'Shweta',\n",
       " 'Address': 'Hatkanangale',\n",
       " 'Email ID': 'Shweta123@gmail.com'}"
      ]
     },
     "execution_count": 2,
     "metadata": {},
     "output_type": "execute_result"
    }
   ],
   "source": [
    "a"
   ]
  },
  {
   "cell_type": "code",
   "execution_count": 8,
   "metadata": {},
   "outputs": [
    {
     "name": "stdout",
     "output_type": "stream",
     "text": [
      "10\n",
      "10\n",
      "10\n",
      "10\n",
      "10\n"
     ]
    }
   ],
   "source": [
    "a={\"City name\":\"Mumbai\",\n",
    "   \"Phone no.\": 45365469,\n",
    "   \"Name\":     \"Shweta\",\n",
    "   \"Address\":  \"Hatkanangale\",\n",
    "   \"Email ID\": \"Shweta123@gmail.com\" \n",
    "  }\n",
    "for x in a.keys():\n",
    "    b=10\n",
    "    print(b)"
   ]
  },
  {
   "cell_type": "code",
   "execution_count": 9,
   "metadata": {},
   "outputs": [
    {
     "name": "stdout",
     "output_type": "stream",
     "text": [
      "{'City name': 'Mumbai', 'Phone no.': 45365469, 'Name': 'Shweta', 'Address': 'Hatkanangale', 'Email ID': 'Shweta123@gmail.com'}\n",
      "{'City name': 'Mumbai', 'Phone no.': 45365469, 'Name': 'Shweta', 'Address': 'Hatkanangale', 'Email ID': 'Shweta123@gmail.com'}\n",
      "{'City name': 'Mumbai', 'Phone no.': 45365469, 'Name': 'Shweta', 'Address': 'Hatkanangale', 'Email ID': 'Shweta123@gmail.com'}\n",
      "{'City name': 'Mumbai', 'Phone no.': 45365469, 'Name': 'Shweta', 'Address': 'Hatkanangale', 'Email ID': 'Shweta123@gmail.com'}\n",
      "{'City name': 'Mumbai', 'Phone no.': 45365469, 'Name': 'Shweta', 'Address': 'Hatkanangale', 'Email ID': 'Shweta123@gmail.com'}\n"
     ]
    }
   ],
   "source": [
    "a={\"City name\":\"Mumbai\",\n",
    "   \"Phone no.\": 45365469,\n",
    "   \"Name\":     \"Shweta\",\n",
    "   \"Address\":  \"Hatkanangale\",\n",
    "   \"Email ID\": \"Shweta123@gmail.com\" \n",
    "  }\n",
    "for x in a.keys():\n",
    "    print(a)"
   ]
  },
  {
   "cell_type": "code",
   "execution_count": 10,
   "metadata": {},
   "outputs": [
    {
     "name": "stdout",
     "output_type": "stream",
     "text": [
      "Mumbai\n",
      "45365469\n",
      "Shweta\n",
      "Hatkanangale\n",
      "Shweta123@gmail.com\n"
     ]
    }
   ],
   "source": [
    "for x in a.values():\n",
    "    print(x)\n",
    "    "
   ]
  },
  {
   "cell_type": "code",
   "execution_count": 12,
   "metadata": {},
   "outputs": [
    {
     "name": "stdout",
     "output_type": "stream",
     "text": [
      "('City name', 'Mumbai')\n",
      "('Phone no.', 45365469)\n",
      "('Name', 'Shweta')\n",
      "('Address', 'Hatkanangale')\n",
      "('Email ID', 'Shweta123@gmail.com')\n"
     ]
    }
   ],
   "source": [
    "for x in  a.items():\n",
    "    print(x)"
   ]
  },
  {
   "cell_type": "code",
   "execution_count": 11,
   "metadata": {},
   "outputs": [
    {
     "data": {
      "text/plain": [
       "{'City name': ['Mumbai', 'Pune', 'Kolhapur', 'Sangali'],\n",
       " 'Phone no.': 45365469,\n",
       " 'Name': 'Shweta',\n",
       " 'Address': 'Hatkanangale',\n",
       " 'Email ID': 'Shweta123@gmail.com'}"
      ]
     },
     "execution_count": 11,
     "metadata": {},
     "output_type": "execute_result"
    }
   ],
   "source": [
    "a={\"City name\":[\"Mumbai\",\"Pune\",\"Kolhapur\",\"Sangali\"],\n",
    "   \"Phone no.\": 45365469,\n",
    "   \"Name\":     \"Shweta\",\n",
    "   \"Address\":  \"Hatkanangale\",\n",
    "   \"Email ID\": \"Shweta123@gmail.com\" \n",
    "  }\n",
    "a\n"
   ]
  },
  {
   "cell_type": "code",
   "execution_count": 15,
   "metadata": {},
   "outputs": [
    {
     "name": "stdout",
     "output_type": "stream",
     "text": [
      "Mumbai\n",
      "Pune\n",
      "Kolhapur\n",
      "Sangali\n"
     ]
    }
   ],
   "source": [
    "for x in a.get(\"City name\"):\n",
    "    print(x)"
   ]
  },
  {
   "cell_type": "code",
   "execution_count": 21,
   "metadata": {},
   "outputs": [],
   "source": [
    "a[\"Dmart\"]=[\"Green Tea\",\"Pitan\",\"Biscuits\",\"chocolates\"]"
   ]
  },
  {
   "cell_type": "code",
   "execution_count": 22,
   "metadata": {},
   "outputs": [
    {
     "data": {
      "text/plain": [
       "{'City name': ['Mumbai', 'Pune', 'Kolhapur', 'Sangali'],\n",
       " 'Phone no.': 45365469,\n",
       " 'Name': 'Shweta',\n",
       " 'Address': 'Hatkanangale',\n",
       " 'Email ID': 'Shweta123@gmail.com',\n",
       " 'Dmart': ['Green Tea', 'Pitan', 'Biscuits', 'chocolates']}"
      ]
     },
     "execution_count": 22,
     "metadata": {},
     "output_type": "execute_result"
    }
   ],
   "source": [
    "a"
   ]
  },
  {
   "cell_type": "code",
   "execution_count": 25,
   "metadata": {},
   "outputs": [
    {
     "data": {
      "text/plain": [
       "{'City name': ['Mumbai', 'pune', 'Kolhapur', 'Sangali'],\n",
       " 'Phone no.': 45365469,\n",
       " 'Name': 'Ankita',\n",
       " 'Address': 'Hatkanangale',\n",
       " 'Email ID': 'Shweta123@gmail.com',\n",
       " 'Dmart': ['Green Tea', 'Pitan', 'Biscuits', 'chocolates']}"
      ]
     },
     "execution_count": 25,
     "metadata": {},
     "output_type": "execute_result"
    }
   ],
   "source": [
    "a={\"City name\": [\"Mumbai\",\"pune\", \"Kolhapur\", \"Sangali\"],\n",
    "   \"Phone no.\": 45365469,\n",
    "   \"Name\": \"Shweta\",\n",
    "   \"Address\": \"Hatkanangale\",\n",
    "   \"Email ID\": \"Shweta123@gmail.com\",\n",
    "   \"Dmart\": [\"Green Tea\", \"Pitan\", \"Biscuits\", \"chocolates\"]\n",
    "}\n",
    "\n",
    "a.update({\"Name\":\"Ankita\"})\n",
    "a"
   ]
  },
  {
   "cell_type": "code",
   "execution_count": 29,
   "metadata": {},
   "outputs": [
    {
     "data": {
      "text/plain": [
       "{'City name': ['Mumbai', 'pune', 'Kolhapur', 'Sangali'],\n",
       " 'Phone no.': 45365469,\n",
       " 'Address': 'Hatkanangale',\n",
       " 'Email ID': 'Shweta123@gmail.com',\n",
       " 'Dmart': ['Green Tea', 'Pitan', 'Biscuits', 'chocolates']}"
      ]
     },
     "execution_count": 29,
     "metadata": {},
     "output_type": "execute_result"
    }
   ],
   "source": [
    "a={\"City name\": [\"Mumbai\",\"pune\", \"Kolhapur\", \"Sangali\"],\n",
    "   \"Phone no.\": 45365469,\n",
    "   \"Name\": \"Shweta\",\n",
    "   \"Address\": \"Hatkanangale\",\n",
    "   \"Email ID\": \"Shweta123@gmail.com\",\n",
    "   \"Dmart\": [\"Green Tea\", \"Pitan\", \"Biscuits\", \"chocolates\"]\n",
    "}\n",
    "\n",
    "a.pop(\"Name\")\n",
    "a"
   ]
  },
  {
   "cell_type": "code",
   "execution_count": 30,
   "metadata": {},
   "outputs": [
    {
     "name": "stdout",
     "output_type": "stream",
     "text": [
      "5\n"
     ]
    }
   ],
   "source": [
    "print(len(a))"
   ]
  },
  {
   "cell_type": "code",
   "execution_count": 31,
   "metadata": {},
   "outputs": [
    {
     "name": "stdout",
     "output_type": "stream",
     "text": [
      "<class 'dict'>\n"
     ]
    }
   ],
   "source": [
    "print(type(a))"
   ]
  },
  {
   "cell_type": "code",
   "execution_count": 33,
   "metadata": {},
   "outputs": [
    {
     "data": {
      "text/plain": [
       "{'City name': ['Mumbai', 'pune', 'Kolhapur', 'Sangali'],\n",
       " 'Phone no.': 45365469,\n",
       " 'Name': 'Shweta',\n",
       " 'Address': 'Hatkanangale',\n",
       " 'Email ID': 'Shweta123@gmail.com'}"
      ]
     },
     "execution_count": 33,
     "metadata": {},
     "output_type": "execute_result"
    }
   ],
   "source": [
    "a={\"City name\": [\"Mumbai\",\"pune\", \"Kolhapur\", \"Sangali\"],\n",
    "   \"Phone no.\": 45365469,\n",
    "   \"Name\": \"Shweta\",\n",
    "   \"Address\": \"Hatkanangale\",\n",
    "   \"Email ID\": \"Shweta123@gmail.com\",\n",
    "   \"Dmart\": [\"Green Tea\", \"Pitan\", \"Biscuits\", \"chocolates\"]\n",
    "}\n",
    "\n",
    "a.popitem()\n",
    "a"
   ]
  },
  {
   "cell_type": "code",
   "execution_count": 34,
   "metadata": {},
   "outputs": [
    {
     "data": {
      "text/plain": [
       "{'City name': ['Mumbai', 'pune', 'Kolhapur', 'Sangali'],\n",
       " 'Phone no.': 45365469,\n",
       " 'Address': 'Hatkanangale',\n",
       " 'Email ID': 'Shweta123@gmail.com',\n",
       " 'Dmart': ['Green Tea', 'Pitan', 'Biscuits', 'chocolates']}"
      ]
     },
     "execution_count": 34,
     "metadata": {},
     "output_type": "execute_result"
    }
   ],
   "source": [
    "a={\"City name\": [\"Mumbai\",\"pune\", \"Kolhapur\", \"Sangali\"],\n",
    "   \"Phone no.\": 45365469,\n",
    "   \"Name\": \"Shweta\",\n",
    "   \"Address\": \"Hatkanangale\",\n",
    "   \"Email ID\": \"Shweta123@gmail.com\",\n",
    "   \"Dmart\": [\"Green Tea\", \"Pitan\", \"Biscuits\", \"chocolates\"]\n",
    "}\n",
    "\n",
    "del a[\"Name\"]\n",
    "a"
   ]
  },
  {
   "cell_type": "code",
   "execution_count": 36,
   "metadata": {},
   "outputs": [
    {
     "name": "stdout",
     "output_type": "stream",
     "text": [
      "City name: ['Mumbai', 'pune', 'Kolhapur', 'Sangali']\n",
      "Phone no.: 45365469\n",
      "Name: Shweta\n",
      "Address: Hatkanangale\n",
      "Email ID: Shweta123@gmail.com\n",
      "Dmart: ['Green Tea', 'Pitan', 'Biscuits', 'chocolates']\n"
     ]
    }
   ],
   "source": [
    "a={\"City name:\": [\"Mumbai\",\"pune\", \"Kolhapur\", \"Sangali\"],\n",
    "   \"Phone no.:\": 45365469,\n",
    "   \"Name:\": \"Shweta\",\n",
    "   \"Address:\": \"Hatkanangale\",\n",
    "   \"Email ID:\": \"Shweta123@gmail.com\",\n",
    "   \"Dmart:\": [\"Green Tea\", \"Pitan\", \"Biscuits\", \"chocolates\"]\n",
    "}\n",
    "\n",
    "for x,y in a.items():\n",
    "    print(x,y)"
   ]
  },
  {
   "cell_type": "code",
   "execution_count": 8,
   "metadata": {},
   "outputs": [
    {
     "name": "stdout",
     "output_type": "stream",
     "text": [
      "{'City name:': ['Mumbai', 'pune', 'Kolhapur', 'Sangali'], 'Name:': 'Shweta', 'Address:': 'Hatkanangale', 'Email ID:': 'Shweta123@gmail.com', 'Dmart:': ['Green Tea', 'Pitan', 'Biscuits', 'chocolates']}\n"
     ]
    },
    {
     "ename": "TypeError",
     "evalue": "'NoneType' object is not iterable",
     "output_type": "error",
     "traceback": [
      "\u001b[1;31m---------------------------------------------------------------------------\u001b[0m",
      "\u001b[1;31mTypeError\u001b[0m                                 Traceback (most recent call last)",
      "\u001b[1;32m<ipython-input-8-1dee7fa83eea>\u001b[0m in \u001b[0;36m<module>\u001b[1;34m\u001b[0m\n\u001b[0;32m      8\u001b[0m \u001b[0mprint\u001b[0m\u001b[1;33m(\u001b[0m\u001b[0md\u001b[0m\u001b[1;33m)\u001b[0m\u001b[1;33m\u001b[0m\u001b[1;33m\u001b[0m\u001b[0m\n\u001b[0;32m      9\u001b[0m \u001b[1;33m\u001b[0m\u001b[0m\n\u001b[1;32m---> 10\u001b[1;33m \u001b[1;32mfor\u001b[0m \u001b[0mx\u001b[0m \u001b[1;32min\u001b[0m \u001b[0md\u001b[0m\u001b[1;33m.\u001b[0m\u001b[0mget\u001b[0m\u001b[1;33m(\u001b[0m\u001b[1;34m\"City name\"\u001b[0m\u001b[1;33m)\u001b[0m\u001b[1;33m:\u001b[0m\u001b[1;33m\u001b[0m\u001b[1;33m\u001b[0m\u001b[0m\n\u001b[0m\u001b[0;32m     11\u001b[0m     \u001b[0mprint\u001b[0m\u001b[1;33m(\u001b[0m\u001b[0mx\u001b[0m\u001b[1;33m)\u001b[0m\u001b[1;33m\u001b[0m\u001b[1;33m\u001b[0m\u001b[0m\n",
      "\u001b[1;31mTypeError\u001b[0m: 'NoneType' object is not iterable"
     ]
    }
   ],
   "source": [
    "d={\"City name:\":  [\"Mumbai\",\"pune\", \"Kolhapur\", \"Sangali\"],\n",
    "   \"Name:\":  \"Shweta\",\n",
    "   \"Address:\":  \"Hatkanangale\",\n",
    "   \"Email ID:\":  \"Shweta123@gmail.com\",\n",
    "   \"Dmart:\":  [\"Green Tea\", \"Pitan\", \"Biscuits\", \"chocolates\"]\n",
    "}\n",
    "\n",
    "print(d)\n",
    "\n",
    "for x in d.get(\"City name\"):\n",
    "    print(x)\n"
   ]
  },
  {
   "cell_type": "code",
   "execution_count": 22,
   "metadata": {},
   "outputs": [
    {
     "data": {
      "text/plain": [
       "{'Name:': 'kajal pandav',\n",
       " 'Address:': 'Hatkanangale',\n",
       " 'Email_id:': 'kajal@gmail.com',\n",
       " 'computer': 'CPU'}"
      ]
     },
     "execution_count": 22,
     "metadata": {},
     "output_type": "execute_result"
    }
   ],
   "source": [
    "a={\"Name:\" : \"kajal pandav\",\n",
    "   \"Address:\" : \"Hatkanangale\",\n",
    "   \"Email_id:\":\"kajal@gmail.com\"\n",
    "  }\n",
    "a\n",
    "\n",
    "a[\"computer\"]=\"CPU\"\n",
    "\n",
    "a"
   ]
  },
  {
   "cell_type": "code",
   "execution_count": 23,
   "metadata": {},
   "outputs": [
    {
     "name": "stdout",
     "output_type": "stream",
     "text": [
      "{'Name': 'kajal pandav', 'Address': 'Hatkanangale', 'Email_id': 'kajal@gmail.com'}\n",
      "Sangali\n",
      "Sangali\n",
      "Sangali\n",
      "Sangali\n",
      "Sangali\n",
      "Sangali\n",
      "Sangali\n",
      "Sangali\n",
      "Sangali\n",
      "Sangali\n",
      "Sangali\n",
      "Sangali\n"
     ]
    }
   ],
   "source": [
    "a={\"Name\" : \"kajal pandav\",\n",
    "   \"Address\" : \"Hatkanangale\",\n",
    "   \"Email_id\" : \"kajal@gmail.com\"\n",
    "  }\n",
    "print(a)\n",
    "\n",
    "for a in a.get(\"Address\"):\n",
    "    print(x)"
   ]
  },
  {
   "cell_type": "code",
   "execution_count": null,
   "metadata": {},
   "outputs": [],
   "source": []
  },
  {
   "cell_type": "code",
   "execution_count": null,
   "metadata": {},
   "outputs": [],
   "source": []
  }
 ],
 "metadata": {
  "kernelspec": {
   "display_name": "Python 3",
   "language": "python",
   "name": "python3"
  },
  "language_info": {
   "codemirror_mode": {
    "name": "ipython",
    "version": 3
   },
   "file_extension": ".py",
   "mimetype": "text/x-python",
   "name": "python",
   "nbconvert_exporter": "python",
   "pygments_lexer": "ipython3",
   "version": "3.7.6"
  }
 },
 "nbformat": 4,
 "nbformat_minor": 4
}
