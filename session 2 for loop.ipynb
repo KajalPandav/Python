{
 "cells": [
  {
   "cell_type": "code",
   "execution_count": 4,
   "metadata": {},
   "outputs": [
    {
     "name": "stdout",
     "output_type": "stream",
     "text": [
      "0\n",
      "1\n",
      "2\n",
      "3\n",
      "4\n",
      "5\n",
      "6\n",
      "7\n",
      "8\n",
      "9\n"
     ]
    }
   ],
   "source": [
    "#for loop\n",
    "for x in range(10):\n",
    "    print(x)"
   ]
  },
  {
   "cell_type": "code",
   "execution_count": 5,
   "metadata": {},
   "outputs": [
    {
     "name": "stdout",
     "output_type": "stream",
     "text": [
      "0\n",
      "1\n",
      "2\n",
      "3\n",
      "4\n",
      "5\n",
      "6\n",
      "7\n",
      "8\n",
      "9\n",
      "10\n",
      "11\n",
      "12\n",
      "13\n",
      "14\n",
      "15\n",
      "16\n",
      "17\n",
      "18\n",
      "19\n"
     ]
    }
   ],
   "source": [
    "for y in range(20):\n",
    "    print(y)"
   ]
  },
  {
   "cell_type": "code",
   "execution_count": 6,
   "metadata": {},
   "outputs": [
    {
     "name": "stdout",
     "output_type": "stream",
     "text": [
      "5\n",
      "6\n",
      "7\n",
      "8\n",
      "9\n"
     ]
    }
   ],
   "source": [
    "for x in range(5,10):\n",
    "    print(x)"
   ]
  },
  {
   "cell_type": "code",
   "execution_count": 8,
   "metadata": {},
   "outputs": [
    {
     "name": "stdout",
     "output_type": "stream",
     "text": [
      "10\n",
      "11\n",
      "12\n",
      "13\n",
      "14\n",
      "15\n",
      "16\n",
      "17\n",
      "18\n",
      "19\n"
     ]
    }
   ],
   "source": [
    "for a in range(10,20):\n",
    "    print(a)"
   ]
  },
  {
   "cell_type": "code",
   "execution_count": 10,
   "metadata": {},
   "outputs": [
    {
     "name": "stdout",
     "output_type": "stream",
     "text": [
      "1\n",
      "3\n",
      "5\n",
      "7\n",
      "9\n",
      "11\n",
      "13\n",
      "15\n",
      "17\n",
      "19\n",
      "21\n",
      "23\n",
      "25\n",
      "27\n",
      "29\n",
      "31\n",
      "33\n",
      "35\n",
      "37\n",
      "39\n",
      "41\n",
      "43\n",
      "45\n",
      "47\n",
      "49\n"
     ]
    }
   ],
   "source": [
    "#odd numbers\n",
    "for b in range(1,50,2):\n",
    "    print(b)"
   ]
  },
  {
   "cell_type": "code",
   "execution_count": 2,
   "metadata": {},
   "outputs": [
    {
     "name": "stdout",
     "output_type": "stream",
     "text": [
      "2\n",
      "4\n",
      "6\n",
      "8\n",
      "10\n",
      "12\n",
      "14\n",
      "16\n",
      "18\n",
      "20\n",
      "22\n",
      "24\n",
      "26\n",
      "28\n",
      "30\n",
      "32\n",
      "34\n",
      "36\n",
      "38\n",
      "40\n",
      "42\n",
      "44\n",
      "46\n",
      "48\n"
     ]
    }
   ],
   "source": [
    "#Even numbers\n",
    "for x in range(2,50,2):\n",
    "    print(x)"
   ]
  },
  {
   "cell_type": "code",
   "execution_count": 14,
   "metadata": {},
   "outputs": [
    {
     "name": "stdout",
     "output_type": "stream",
     "text": [
      "5\n",
      "10\n",
      "15\n",
      "20\n",
      "25\n",
      "30\n",
      "35\n",
      "40\n",
      "45\n"
     ]
    }
   ],
   "source": [
    "# 5 table\n",
    "for c in range(5,50,5):\n",
    "    print(c)"
   ]
  },
  {
   "cell_type": "code",
   "execution_count": 15,
   "metadata": {},
   "outputs": [
    {
     "name": "stdout",
     "output_type": "stream",
     "text": [
      "5\n",
      "10\n",
      "15\n",
      "20\n",
      "25\n",
      "30\n",
      "35\n",
      "40\n",
      "45\n",
      "50\n"
     ]
    }
   ],
   "source": [
    "for c in range(5,55,5):\n",
    "    print(c)"
   ]
  },
  {
   "cell_type": "code",
   "execution_count": 17,
   "metadata": {},
   "outputs": [
    {
     "name": "stdout",
     "output_type": "stream",
     "text": [
      "R\n",
      "a\n",
      "c\n",
      "k\n",
      "s\n",
      "o\n",
      "n\n",
      "i\n",
      "t\n"
     ]
    }
   ],
   "source": [
    "a=\"Racksonit\"\n",
    "for x in a:\n",
    "    print(x)"
   ]
  },
  {
   "cell_type": "code",
   "execution_count": 19,
   "metadata": {},
   "outputs": [
    {
     "name": "stdout",
     "output_type": "stream",
     "text": [
      "Kolhapur\n",
      "Sangali\n",
      "Hatkanangale\n"
     ]
    }
   ],
   "source": [
    "a=[\"Kolhapur\",\"Sangali\",\"Hatkanangale\"]\n",
    "for y in a:\n",
    "    print(y)"
   ]
  },
  {
   "cell_type": "code",
   "execution_count": 2,
   "metadata": {},
   "outputs": [
    {
     "name": "stdout",
     "output_type": "stream",
     "text": [
      "Enter the city name:pune\n",
      "p\n",
      "u\n",
      "n\n",
      "e\n"
     ]
    }
   ],
   "source": [
    "a=input(\"Enter the city name:\")\n",
    "for x in a:\n",
    "    print(x)"
   ]
  },
  {
   "cell_type": "code",
   "execution_count": 28,
   "metadata": {},
   "outputs": [
    {
     "name": "stdout",
     "output_type": "stream",
     "text": [
      "s\n",
      "a\n",
      "t\n",
      "a\n",
      "r\n",
      "a\n"
     ]
    }
   ],
   "source": [
    "a=[\"pune\",\"satara\",\"lonavala\"]\n",
    "for x in a[1]:\n",
    "    print(x)"
   ]
  },
  {
   "cell_type": "code",
   "execution_count": 30,
   "metadata": {},
   "outputs": [
    {
     "name": "stdout",
     "output_type": "stream",
     "text": [
      "A\n",
      "A\n",
      "a\n",
      "a\n",
      "l\n",
      "l\n",
      "t\n",
      "t\n",
      "e\n",
      "e\n"
     ]
    }
   ],
   "source": [
    "a=[\"ichalkaranji\",\"Aalte\"]\n",
    "for x in a[1]:\n",
    "    print(x)\n",
    "    for y in x:\n",
    "        print(y)"
   ]
  },
  {
   "cell_type": "code",
   "execution_count": 31,
   "metadata": {},
   "outputs": [
    {
     "name": "stdout",
     "output_type": "stream",
     "text": [
      "n\n"
     ]
    }
   ],
   "source": [
    "a=[\"kolhapur\",\"sangali\",\"swargate\"]\n",
    "for x in a[1][2]:\n",
    "    print(x)"
   ]
  },
  {
   "cell_type": "code",
   "execution_count": 37,
   "metadata": {},
   "outputs": [
    {
     "name": "stdout",
     "output_type": "stream",
     "text": [
      "karad\n",
      "H\n",
      "a\n",
      "t\n",
      "k\n",
      "a\n",
      "n\n",
      "a\n",
      "n\n",
      "g\n",
      "a\n",
      "l\n",
      "e\n",
      "Hatkanangale\n",
      "H\n",
      "a\n",
      "t\n",
      "k\n",
      "a\n",
      "n\n",
      "a\n",
      "n\n",
      "g\n",
      "a\n",
      "l\n",
      "e\n"
     ]
    }
   ],
   "source": [
    "a=[\"karad\",\"korochi\",\"Hatkanangale\"]\n",
    "for x in a[0],a[2]:\n",
    "    print(x)\n",
    "    for y in a[2]:\n",
    "        print(y)"
   ]
  },
  {
   "cell_type": "code",
   "execution_count": 5,
   "metadata": {},
   "outputs": [
    {
     "name": "stdout",
     "output_type": "stream",
     "text": [
      "Enter the value for table:13\n",
      "13\n",
      "26\n",
      "39\n",
      "52\n",
      "65\n",
      "78\n",
      "91\n",
      "104\n",
      "117\n",
      "130\n"
     ]
    }
   ],
   "source": [
    "n=int(input(\"Enter the value for table:\"))\n",
    "for x in range(n,n*11,n):\n",
    "    print(x)"
   ]
  },
  {
   "cell_type": "code",
   "execution_count": 41,
   "metadata": {},
   "outputs": [
    {
     "name": "stdout",
     "output_type": "stream",
     "text": [
      "Enter first city name:Hatkanangale\n",
      "Enter second city name:Jaysingpur\n",
      "['Hatkanangale', 'Jaysingpur']\n"
     ]
    }
   ],
   "source": [
    "a=input(\"Enter first city name:\")\n",
    "b=input(\"Enter second city name:\")\n",
    "c=[a,b]\n",
    "print(c)"
   ]
  },
  {
   "cell_type": "code",
   "execution_count": 43,
   "metadata": {},
   "outputs": [
    {
     "name": "stdout",
     "output_type": "stream",
     "text": [
      "Enter first city name:Hatkanangale\n",
      "Enter second city name:Kolhapur\n",
      "['Hatkanangale', 'Kolhapur']\n",
      "Hatkanangale\n",
      "H\n",
      "a\n",
      "t\n",
      "k\n",
      "a\n",
      "n\n",
      "a\n",
      "n\n",
      "g\n",
      "a\n",
      "l\n",
      "e\n",
      "Kolhapur\n",
      "K\n",
      "o\n",
      "l\n",
      "h\n",
      "a\n",
      "p\n",
      "u\n",
      "r\n"
     ]
    }
   ],
   "source": [
    "a=input(\"Enter first city name:\")\n",
    "b=input(\"Enter second city name:\")\n",
    "c=[a,b]\n",
    "print(c)\n",
    "for x in c:\n",
    "    print(x)\n",
    "    for y in x:\n",
    "        print(y)"
   ]
  },
  {
   "cell_type": "code",
   "execution_count": 45,
   "metadata": {},
   "outputs": [
    {
     "name": "stdout",
     "output_type": "stream",
     "text": [
      "r\n",
      "total 30\n",
      "e\n",
      "total 30\n",
      "n\n",
      "total 30\n",
      "u\n",
      "total 30\n"
     ]
    }
   ],
   "source": [
    "a=\"renu\"\n",
    "for x in a:\n",
    "    print(x)\n",
    "    a1=10\n",
    "    b1=20\n",
    "    print(\"total\",a1+b1)"
   ]
  },
  {
   "cell_type": "code",
   "execution_count": 47,
   "metadata": {},
   "outputs": [
    {
     "name": "stdout",
     "output_type": "stream",
     "text": [
      "renu\n",
      "total 31\n",
      "kajal\n",
      "total 31\n"
     ]
    }
   ],
   "source": [
    "a=\"renu\"\n",
    "b=\"kajal\"\n",
    "c=[a,b]\n",
    "for x in c:\n",
    "    print(x)\n",
    "    a1=11\n",
    "    b1=20\n",
    "    print(\"total\",a1+b1)"
   ]
  },
  {
   "cell_type": "code",
   "execution_count": 4,
   "metadata": {},
   "outputs": [
    {
     "name": "stdout",
     "output_type": "stream",
     "text": [
      "r\n",
      "a\n",
      "c\n",
      "k\n",
      "s\n",
      "o\n",
      "n\n",
      "i\n",
      "t\n"
     ]
    }
   ],
   "source": [
    "for x in \"racksonit\":\n",
    "    print(x)"
   ]
  },
  {
   "cell_type": "code",
   "execution_count": 3,
   "metadata": {},
   "outputs": [
    {
     "name": "stdout",
     "output_type": "stream",
     "text": [
      "Enter city name:pune\n",
      "p\n",
      "u\n",
      "n\n",
      "e\n",
      "e\n",
      "Enter city name:mumbai\n",
      "m\n",
      "u\n",
      "m\n",
      "b\n",
      "a\n",
      "i\n",
      "i\n"
     ]
    }
   ],
   "source": [
    "for x in range(2):\n",
    "    a=input(\"Enter city name:\")\n",
    "    for x in a:\n",
    "        print(x)\n",
    "    for y in x:\n",
    "        print(y)"
   ]
  },
  {
   "cell_type": "code",
   "execution_count": 6,
   "metadata": {},
   "outputs": [
    {
     "name": "stdout",
     "output_type": "stream",
     "text": [
      "Enter 1st name:...ankita\n",
      "Enter 2nd name:...shruti\n",
      "Enter 3rd name:...heena\n",
      "ankita\n",
      "10 20\n",
      "10\n",
      "20\n",
      "shruti\n",
      "10 20\n",
      "10\n",
      "20\n",
      "heena\n",
      "10 20\n",
      "10\n",
      "20\n"
     ]
    }
   ],
   "source": [
    "a=input(\"Enter 1st name:...\")\n",
    "b=input(\"Enter 2nd name:...\")\n",
    "z=input(\"Enter 3rd name:...\")\n",
    "c=[a,b,z]\n",
    "for x in c:\n",
    "    print(x)\n",
    "    d=10\n",
    "    f=20\n",
    "    print(d,f)\n",
    "    print(d)\n",
    "    print(f)\n",
    "    "
   ]
  },
  {
   "cell_type": "code",
   "execution_count": 9,
   "metadata": {},
   "outputs": [
    {
     "name": "stdout",
     "output_type": "stream",
     "text": [
      "k\n",
      "k\n",
      "Addition of two numbers is:.. 50\n",
      "o\n",
      "o\n",
      "Addition of two numbers is:.. 50\n",
      "l\n",
      "l\n",
      "Addition of two numbers is:.. 50\n",
      "h\n",
      "h\n",
      "Addition of two numbers is:.. 50\n",
      "a\n",
      "a\n",
      "Addition of two numbers is:.. 50\n",
      "p\n",
      "p\n",
      "Addition of two numbers is:.. 50\n",
      "u\n",
      "u\n",
      "Addition of two numbers is:.. 50\n",
      "r\n",
      "r\n",
      "Addition of two numbers is:.. 50\n"
     ]
    }
   ],
   "source": [
    "a=\"kolhapur\"\n",
    "for x in a:\n",
    "    print(x)\n",
    "    for y in x:\n",
    "        print(y)\n",
    "        a=20\n",
    "        b=30\n",
    "        print(\"Addition of two numbers is:..\",a+b)"
   ]
  },
  {
   "cell_type": "code",
   "execution_count": null,
   "metadata": {},
   "outputs": [],
   "source": []
  }
 ],
 "metadata": {
  "kernelspec": {
   "display_name": "Python 3",
   "language": "python",
   "name": "python3"
  },
  "language_info": {
   "codemirror_mode": {
    "name": "ipython",
    "version": 3
   },
   "file_extension": ".py",
   "mimetype": "text/x-python",
   "name": "python",
   "nbconvert_exporter": "python",
   "pygments_lexer": "ipython3",
   "version": "3.7.6"
  }
 },
 "nbformat": 4,
 "nbformat_minor": 4
}
