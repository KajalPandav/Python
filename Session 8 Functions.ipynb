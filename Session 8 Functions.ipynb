{
 "cells": [
  {
   "cell_type": "code",
   "execution_count": 1,
   "metadata": {},
   "outputs": [
    {
     "name": "stdout",
     "output_type": "stream",
     "text": [
      "She is Renu kalyani\n"
     ]
    }
   ],
   "source": [
    "## FUNCTONS ##\n",
    "\n",
    "def person():\n",
    "    print(\"She is Renu kalyani\")\n",
    "    \n",
    "person()    "
   ]
  },
  {
   "cell_type": "code",
   "execution_count": 9,
   "metadata": {},
   "outputs": [
    {
     "name": "stdout",
     "output_type": "stream",
     "text": [
      "30\n"
     ]
    }
   ],
   "source": [
    "def add(a=10,b=20):\n",
    "   \n",
    "    print(a+b)\n",
    "add()    "
   ]
  },
  {
   "cell_type": "code",
   "execution_count": 1,
   "metadata": {},
   "outputs": [
    {
     "name": "stdout",
     "output_type": "stream",
     "text": [
      "Enter first value:...45\n",
      "65\n",
      "Enter first value:...20\n",
      "40\n",
      "Enter first value:...45\n",
      "65\n",
      "Enter first value:...54\n",
      "74\n",
      "Enter first value:...22\n",
      "42\n"
     ]
    }
   ],
   "source": [
    "def add(x,y=20):            ##Default Argument##\n",
    "    \n",
    "    z=x+y\n",
    "    print(z)\n",
    "    \n",
    "for a in range(5):\n",
    "    x=int(input(\"Enter first value:...\"))\n",
    "    add(x)"
   ]
  },
  {
   "cell_type": "code",
   "execution_count": 1,
   "metadata": {},
   "outputs": [
    {
     "name": "stdout",
     "output_type": "stream",
     "text": [
      "Enter first value=56\n",
      "Enter second value=56\n",
      "0\n",
      "Enter first value=5\n",
      "Enter second value=6\n",
      "-1\n",
      "Enter first value=78\n",
      "Enter second value=55\n",
      "23\n",
      "Enter first value=45\n",
      "Enter second value=65\n",
      "-20\n",
      "Enter first value=34\n",
      "Enter second value=43\n",
      "-9\n",
      "Enter first value=89\n",
      "Enter second value=67\n",
      "22\n"
     ]
    }
   ],
   "source": [
    "def sub(x,y):\n",
    "    z=x-y\n",
    "    print(z)\n",
    "    \n",
    "for a in range(6):\n",
    "    x=int(input(\"Enter first value=\"))\n",
    "    y=int(input(\"Enter second value=\"))\n",
    "    \n",
    "    if x>=0 and y<=90:\n",
    "        sub(x,y)    \n",
    "    "
   ]
  },
  {
   "cell_type": "code",
   "execution_count": 3,
   "metadata": {},
   "outputs": [
    {
     "name": "stdout",
     "output_type": "stream",
     "text": [
      "Enter first value=45\n",
      "Enter second value=99\n",
      "your value extended 90...Try again\n"
     ]
    }
   ],
   "source": [
    "def add(x,y):\n",
    "    z=x+y\n",
    "    print(z)\n",
    "    \n",
    "for a in range(1):\n",
    "    x=int(input(\"Enter first value=\"))\n",
    "    y=int(input(\"Enter second value=\"))\n",
    "if x>=0 and y<=90:\n",
    "    print(\"Addition is\")\n",
    "    \n",
    "    add(x,y)\n",
    "\n",
    "else:\n",
    "    print(\"your value extended 90...Try again\")\n",
    "    "
   ]
  },
  {
   "cell_type": "code",
   "execution_count": 1,
   "metadata": {},
   "outputs": [
    {
     "name": "stdout",
     "output_type": "stream",
     "text": [
      "Enter first value=56\n",
      "Enter Second value=78\n",
      "Multiplication is:\n",
      "Substraction is:\n",
      "4368\n",
      "-22\n"
     ]
    }
   ],
   "source": [
    "def mul(a,b):\n",
    "    c=a*b\n",
    "    print(c)\n",
    "    \n",
    "def sub(a,b):\n",
    "    c=a-b\n",
    "    print(c)\n",
    "    \n",
    "for a in range(1):\n",
    "    a=int(input(\"Enter first value=\"))\n",
    "    b=int(input(\"Enter Second value=\"))\n",
    "if a>=0 and b<=100:\n",
    "    print(\"Multiplication is:\")\n",
    "    print(\"Substraction is:\")\n",
    "    \n",
    "    mul(a,b)\n",
    "    sub(a,b)\n",
    "    \n",
    "else:\n",
    "    print(\"your value extended 100...Try again\")\n"
   ]
  },
  {
   "cell_type": "code",
   "execution_count": 3,
   "metadata": {},
   "outputs": [
    {
     "name": "stdout",
     "output_type": "stream",
     "text": [
      "Enter 1st value:22\n",
      "Enter 2nd value:45\n",
      "Addition of two numbers is:\n",
      "67\n",
      "Enter 1st value:45\n",
      "Enter 2nd value:456\n",
      "Values are wrong....\n",
      "Enter 1st value:76\n",
      "Enter 2nd value:67\n",
      "Multiplication of two numbers is:\n",
      "5092\n",
      "Enter 1st value:67\n",
      "Enter 2nd value:65\n",
      "Division of two numbers is:\n",
      "1.0307692307692307\n"
     ]
    }
   ],
   "source": [
    "def add(a,b):\n",
    "    c=a+b\n",
    "    print(c)\n",
    "    \n",
    "def sub(k,p):\n",
    "    r=k-p\n",
    "    print(r)\n",
    "    \n",
    "def mul(l,m):\n",
    "    n=l*m\n",
    "    print(n)\n",
    "    \n",
    "def div(x,y):\n",
    "    z=(x/y)\n",
    "    print(z)\n",
    "    \n",
    "for x in range(1):\n",
    "    a=int(input(\"Enter 1st value:\"))\n",
    "    b=int(input(\"Enter 2nd value:\"))\n",
    "if a>=20 and b<=90:\n",
    "    print(\"Addition of two numbers is:\")\n",
    "    \n",
    "    add(a,b)\n",
    "else:\n",
    "    print(\"Values are wrong....\")\n",
    "    \n",
    "\n",
    "for a in range(1):\n",
    "    k=int(input(\"Enter 1st value:\"))\n",
    "    p=int(input(\"Enter 2nd value:\"))\n",
    "if k>=10 and p<=80:\n",
    "    print(\"Substraction of two numbers is:\")\n",
    "    \n",
    "    sub(k,p)\n",
    "else:\n",
    "    print(\"Values are wrong....\")\n",
    "    \n",
    "    \n",
    "for b in range(1):\n",
    "    l=int(input(\"Enter 1st value:\"))\n",
    "    m=int(input(\"Enter 2nd value:\"))\n",
    "if l>=54 and m<=80:\n",
    "    print(\"Multiplication of two numbers is:\")\n",
    "    \n",
    "    mul(l,m)\n",
    "else:\n",
    "    print(\"Values are wrong....\")\n",
    "    \n",
    "    \n",
    "for d in range(1):\n",
    "    x=int(input(\"Enter 1st value:\"))\n",
    "    y=int(input(\"Enter 2nd value:\"))\n",
    "if x>=30 and y<=100:\n",
    "    print(\"Division of two numbers is:\")\n",
    "    \n",
    "    div(x,y)\n",
    "else:\n",
    "    print(\"Values are wrong.....\")\n",
    "    \n",
    "    "
   ]
  },
  {
   "cell_type": "code",
   "execution_count": 2,
   "metadata": {},
   "outputs": [
    {
     "name": "stdout",
     "output_type": "stream",
     "text": [
      "Enter 1st value:34\n",
      "Enter 2nd value:56\n",
      "Enter your choice:mul\n",
      "Multiplication is:\n",
      "1904\n"
     ]
    }
   ],
   "source": [
    "def add(a,b):\n",
    "    c=a+b\n",
    "    print(c)\n",
    "    \n",
    "def sub(a,b):\n",
    "    c=a-b\n",
    "    print(c)\n",
    "    \n",
    "def mul(a,b):\n",
    "    c=a*b\n",
    "    print(c)\n",
    "    \n",
    "def div(a,b):\n",
    "    c=a/b\n",
    "    print(c)\n",
    "    \n",
    "for x in range(1):\n",
    "    a=int(input(\"Enter 1st value:\"))\n",
    "    b=int(input(\"Enter 2nd value:\"))\n",
    "    \n",
    "    choice=input(\"Enter your choice:\")\n",
    "    \n",
    "    if choice==\"add\":\n",
    "        print(\"Addition is:\")\n",
    "        add(a,b)\n",
    "        \n",
    "    elif choice==\"sub\":\n",
    "        print(\"Substraction is:\")\n",
    "        sub(a,b)\n",
    "        \n",
    "    elif choice==\"mul\":\n",
    "        print(\"Multiplication is:\")\n",
    "        mul(a,b)\n",
    "        \n",
    "    elif choice==\"div\":\n",
    "        print(\"Division is:\")\n",
    "        sub(a,b)\n",
    "        \n",
    "    else:\n",
    "        print(\"your choice is wrong....\")"
   ]
  },
  {
   "cell_type": "code",
   "execution_count": null,
   "metadata": {},
   "outputs": [
    {
     "name": "stdout",
     "output_type": "stream",
     "text": [
      "Enter count:3\n",
      "Enter city name:Pune\n",
      "your entered city belongs to maharashtra...\n",
      "your updated data ['Pune']\n"
     ]
    }
   ],
   "source": [
    "# if else for loop practice\n",
    "# city separation\n",
    "\n",
    "Maharashtra=[\"Kolhapur\",\"Pune\",\"Mumbai\",\"Satara\",\"Karad\"]\n",
    "Karnataka=[\"Belgaon\",\"Benglore\",\"Manglore\",\"Mysore\",\"Uti\"]\n",
    "Maha_data=[]\n",
    "karn_data=[]\n",
    "\n",
    "n=int(input(\"Enter count:\"))\n",
    "for x in range(n):\n",
    "    c=input(\"Enter city name:\")\n",
    "    for m in Maharashtra:\n",
    "        if m==c:\n",
    "            print(\"your entered city belongs to maharashtra...\")\n",
    "            Maha_data.append(c)\n",
    "            print(\"your updated data\",Maha_data)\n",
    "   \n",
    "        \n",
    "    for k in Karnataka:\n",
    "        if k==c:\n",
    "            print(\"your entered city belongs to karanataka...\")\n",
    "            karn_data.append(c)\n",
    "            print(\"your updated data\",karn_data)\n",
    "        break\n",
    "else:\n",
    "    print(\"your entered city is wrong....\")\n",
    "            \n",
    "            "
   ]
  },
  {
   "cell_type": "code",
   "execution_count": 7,
   "metadata": {},
   "outputs": [
    {
     "name": "stdout",
     "output_type": "stream",
     "text": [
      "Enter the first value.....56\n",
      "Enter the second value....56\n",
      "0\n"
     ]
    }
   ],
   "source": [
    "## Return value ##\n",
    "def sub(a,b):\n",
    "    c=a-b\n",
    "    return c\n",
    "\n",
    "for x in range(1):\n",
    "    a=int(input(\"Enter the first value.....\"))\n",
    "    b=int(input(\"Enter the second value....\"))\n",
    "    print(sub(a,b))\n",
    "    \n",
    "    "
   ]
  },
  {
   "cell_type": "code",
   "execution_count": null,
   "metadata": {},
   "outputs": [
    {
     "name": "stdout",
     "output_type": "stream",
     "text": [
      "Enter the x value.....56\n",
      "Enter the y value.....110\n",
      "your values are wrong......\n",
      "Enter the x value.....56\n",
      "Enter the y value.....78\n",
      "Addition of two numbers is......\n",
      "134\n"
     ]
    }
   ],
   "source": [
    "def add(x,y):\n",
    "    z=x+y\n",
    "    print(z)\n",
    "    \n",
    "        \n",
    "for a in range(3):\n",
    "    x=int(input(\"Enter the x value.....\"))\n",
    "    y=int(input(\"Enter the y value.....\"))\n",
    "    if x>=34 and y<=100:\n",
    "        print(\"Addition of two numbers is......\")\n",
    "        add(x,y)   \n",
    "    else:\n",
    "        print(\"your values are wrong......\")\n",
    " \n",
    "    "
   ]
  },
  {
   "cell_type": "code",
   "execution_count": null,
   "metadata": {},
   "outputs": [
    {
     "name": "stdout",
     "output_type": "stream",
     "text": [
      "Enter your choice....Circle\n",
      "Enter radius.....3.4\n",
      "circumference of circle is..\n",
      "Area of circle is...\n",
      "Diameter of circle is..\n",
      "The circumference of circle is 21.352\n",
      "The area of circle is 36.2984\n",
      "the diameter of circle is 6.8\n"
     ]
    }
   ],
   "source": [
    "a=(\"1.Triangle,2.Rectangle,3.Circle,4.Square\")\n",
    "\n",
    "def Triangle(b,h):\n",
    "    area=0.5*b*h\n",
    "    print(area)\n",
    "    \n",
    "def Rectangle(l,w):\n",
    "    parameter=2*l+2*w\n",
    "    area=l*w\n",
    "    print(\"The parameter of Rectangle is\",parameter)\n",
    "    print(\"The area of Rectangle is\",area)\n",
    "    \n",
    "def Circle(r,pi=3.14):\n",
    "    circumference=2*pi*r\n",
    "    area=pi*r*r\n",
    "    diameter=2*r\n",
    "    print(\"The circumference of circle is\",circumference)\n",
    "    print(\"The area of circle is\",area)\n",
    "    print(\"the diameter of circle is\",diameter)\n",
    "    \n",
    "def Square(s):\n",
    "    area=4*s\n",
    "    print(\"The area of square\",area)\n",
    "    \n",
    "for x in range(3):\n",
    "    choice=input(\"Enter your choice....\")\n",
    "\n",
    "\n",
    "    if choice==\"Triangle\":\n",
    "        b=float(input(\"Enter base ....\"))\n",
    "        h=float(input(\"Enter height ....\"))\n",
    "        print(\"Area of Triangle is..\")\n",
    "        Triangle(b,h)\n",
    "    \n",
    "    elif choice==\"Rectangle\":\n",
    "        l=int(input(\"Enter length......\"))\n",
    "        w=int(input(\"Enter width.......\"))\n",
    "        print(\"parameter of Rectangle is....\")\n",
    "        print(\"area of Rectangle is.....\")\n",
    "        Rectangle(l,w)\n",
    "    \n",
    "    elif choice==\"Circle\":\n",
    "        r=float(input(\"Enter radius.....\"))\n",
    "        print(\"circumference of circle is..\")\n",
    "        print(\"Area of circle is...\")\n",
    "        print(\"Diameter of circle is..\")\n",
    "        Circle(r)\n",
    "    \n",
    "    elif choice==\"Square\":\n",
    "        s=int(input(\"Enter s value......\"))\n",
    "        print(\"Area of square is...\")\n",
    "        Square(s)\n",
    "    \n",
    "else:\n",
    "    print(\"Your choice is not correct.........\")\n",
    "    \n",
    "\n",
    "    "
   ]
  },
  {
   "cell_type": "code",
   "execution_count": null,
   "metadata": {},
   "outputs": [],
   "source": [
    "Maharashtra=[\"Kolhapur\",\"Sangali\",\"Jaysinghpur\",\"\"]"
   ]
  },
  {
   "cell_type": "code",
   "execution_count": 1,
   "metadata": {},
   "outputs": [
    {
     "ename": "NameError",
     "evalue": "name 'Name' is not defined",
     "output_type": "error",
     "traceback": [
      "\u001b[1;31m---------------------------------------------------------------------------\u001b[0m",
      "\u001b[1;31mNameError\u001b[0m                                 Traceback (most recent call last)",
      "\u001b[1;32m<ipython-input-1-a4a750db73fd>\u001b[0m in \u001b[0;36m<module>\u001b[1;34m\u001b[0m\n\u001b[0;32m     14\u001b[0m         \u001b[0mb\u001b[0m\u001b[1;33m.\u001b[0m\u001b[0maapend\u001b[0m\u001b[1;33m(\u001b[0m\u001b[0mName\u001b[0m\u001b[1;33m,\u001b[0m\u001b[0mAddress\u001b[0m\u001b[1;33m,\u001b[0m\u001b[0mMob_no\u001b[0m\u001b[1;33m)\u001b[0m\u001b[1;33m\u001b[0m\u001b[1;33m\u001b[0m\u001b[0m\n\u001b[0;32m     15\u001b[0m \u001b[1;33m\u001b[0m\u001b[0m\n\u001b[1;32m---> 16\u001b[1;33m \u001b[0mcity\u001b[0m\u001b[1;33m(\u001b[0m\u001b[0mName\u001b[0m\u001b[1;33m,\u001b[0m\u001b[0mAddress\u001b[0m\u001b[1;33m,\u001b[0m\u001b[0mMob_no\u001b[0m\u001b[1;33m)\u001b[0m\u001b[1;33m\u001b[0m\u001b[1;33m\u001b[0m\u001b[0m\n\u001b[0m\u001b[0;32m     17\u001b[0m \u001b[1;33m\u001b[0m\u001b[0m\n\u001b[0;32m     18\u001b[0m \u001b[1;33m\u001b[0m\u001b[0m\n",
      "\u001b[1;31mNameError\u001b[0m: name 'Name' is not defined"
     ]
    }
   ],
   "source": [
    "a=[]\n",
    "b=tuple(a)\n",
    "\n",
    "\n",
    "def city(Name,Address,Mob_no):\n",
    "    Name=input(\"Enter the name....\")\n",
    "    Address=input(\"Enter the Address....\")\n",
    "    Mob_no=int(input(\"Enter the mob_no....\"))\n",
    "    \n",
    "    for x in range(5):\n",
    "        print(\"Name...\",Name)\n",
    "        print(\"Address...\",Address)\n",
    "        print(\"Mob_no...\",Mob_no)\n",
    "        b.aapend(Name,Address,Mob_no)\n",
    "        \n",
    "city(Name,Address,Mob_no)        \n",
    "    \n",
    "    \n",
    "        \n",
    "\n",
    "                   \n",
    "    "
   ]
  },
  {
   "cell_type": "code",
   "execution_count": 5,
   "metadata": {},
   "outputs": [
    {
     "ename": "NameError",
     "evalue": "name 'a' is not defined",
     "output_type": "error",
     "traceback": [
      "\u001b[1;31m---------------------------------------------------------------------------\u001b[0m",
      "\u001b[1;31mNameError\u001b[0m                                 Traceback (most recent call last)",
      "\u001b[1;32m<ipython-input-5-2b97e8ce261d>\u001b[0m in \u001b[0;36m<module>\u001b[1;34m\u001b[0m\n\u001b[0;32m      5\u001b[0m     \u001b[0mprint\u001b[0m\u001b[1;33m(\u001b[0m\u001b[1;34m\"Address...\"\u001b[0m\u001b[1;33m,\u001b[0m\u001b[0mb\u001b[0m\u001b[1;33m)\u001b[0m\u001b[1;33m\u001b[0m\u001b[1;33m\u001b[0m\u001b[0m\n\u001b[0;32m      6\u001b[0m \u001b[1;33m\u001b[0m\u001b[0m\n\u001b[1;32m----> 7\u001b[1;33m \u001b[0mcity\u001b[0m\u001b[1;33m(\u001b[0m\u001b[0ma\u001b[0m\u001b[1;33m,\u001b[0m\u001b[0mb\u001b[0m\u001b[1;33m)\u001b[0m\u001b[1;33m\u001b[0m\u001b[1;33m\u001b[0m\u001b[0m\n\u001b[0m\u001b[0;32m      8\u001b[0m \u001b[1;33m\u001b[0m\u001b[0m\n\u001b[0;32m      9\u001b[0m \u001b[1;33m\u001b[0m\u001b[0m\n",
      "\u001b[1;31mNameError\u001b[0m: name 'a' is not defined"
     ]
    }
   ],
   "source": [
    "def city(a,b):\n",
    "    a=input(\"Enter the name....\")\n",
    "    b=input(\"Enter the Address....\")\n",
    "    print(\"Name...\",a)\n",
    "    print(\"Address...\",b)\n",
    "\n",
    "city(a,b)        \n",
    "    \n",
    "    "
   ]
  },
  {
   "cell_type": "code",
   "execution_count": 3,
   "metadata": {},
   "outputs": [
    {
     "ename": "NameError",
     "evalue": "name 'a' is not defined",
     "output_type": "error",
     "traceback": [
      "\u001b[1;31m---------------------------------------------------------------------------\u001b[0m",
      "\u001b[1;31mNameError\u001b[0m                                 Traceback (most recent call last)",
      "\u001b[1;32m<ipython-input-3-ce66c2cff5e1>\u001b[0m in \u001b[0;36m<module>\u001b[1;34m\u001b[0m\n\u001b[0;32m      5\u001b[0m     \u001b[0mprint\u001b[0m\u001b[1;33m(\u001b[0m\u001b[1;34m\"Your city=\"\u001b[0m\u001b[1;33m,\u001b[0m\u001b[0mb\u001b[0m\u001b[1;33m)\u001b[0m\u001b[1;33m\u001b[0m\u001b[1;33m\u001b[0m\u001b[0m\n\u001b[0;32m      6\u001b[0m \u001b[1;33m\u001b[0m\u001b[0m\n\u001b[1;32m----> 7\u001b[1;33m \u001b[0mhome\u001b[0m\u001b[1;33m(\u001b[0m\u001b[0ma\u001b[0m\u001b[1;33m,\u001b[0m\u001b[0mb\u001b[0m\u001b[1;33m)\u001b[0m\u001b[1;33m\u001b[0m\u001b[1;33m\u001b[0m\u001b[0m\n\u001b[0m",
      "\u001b[1;31mNameError\u001b[0m: name 'a' is not defined"
     ]
    }
   ],
   "source": [
    "def home(a,b):\n",
    "    a=input(\"Enter name:\")\n",
    "    b=input(\"Enter city:\")\n",
    "    print(\"Your name=\",a)\n",
    "    print(\"Your city=\",b)\n",
    "    \n",
    "home(a,b)"
   ]
  },
  {
   "cell_type": "code",
   "execution_count": 4,
   "metadata": {},
   "outputs": [
    {
     "name": "stdout",
     "output_type": "stream",
     "text": [
      "Enter the 1st name:kajal\n",
      "Eter the 2nd name:ankita\n",
      "Your name= kajal\n",
      "Your name= ankita\n"
     ]
    }
   ],
   "source": [
    "def name(a,b):\n",
    "    a=input(\"Enter the 1st name:\")\n",
    "    b=input(\"Eter the 2nd name:\")\n",
    "    print(\"Your name=\",a)\n",
    "    print(\"Your name=\",b)\n",
    "    \n",
    "name(a,b)0"
   ]
  },
  {
   "cell_type": "code",
   "execution_count": null,
   "metadata": {},
   "outputs": [],
   "source": []
  }
 ],
 "metadata": {
  "kernelspec": {
   "display_name": "Python 3",
   "language": "python",
   "name": "python3"
  },
  "language_info": {
   "codemirror_mode": {
    "name": "ipython",
    "version": 3
   },
   "file_extension": ".py",
   "mimetype": "text/x-python",
   "name": "python",
   "nbconvert_exporter": "python",
   "pygments_lexer": "ipython3",
   "version": "3.7.6"
  }
 },
 "nbformat": 4,
 "nbformat_minor": 4
}
